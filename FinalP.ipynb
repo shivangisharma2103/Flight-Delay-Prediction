{
  "nbformat": 4,
  "nbformat_minor": 0,
  "metadata": {
    "colab": {
      "name": "FinalP.ipynb",
      "provenance": [],
      "collapsed_sections": [],
      "authorship_tag": "ABX9TyMrOVVb5CArnHccJsZAo2Bq",
      "include_colab_link": true
    },
    "kernelspec": {
      "name": "python3",
      "display_name": "Python 3"
    },
    "accelerator": "TPU"
  },
  "cells": [
    {
      "cell_type": "markdown",
      "metadata": {
        "id": "view-in-github",
        "colab_type": "text"
      },
      "source": [
        "<a href=\"https://colab.research.google.com/github/shivangisharma2103/Flight-Delay-Prediction/blob/main/FinalP.ipynb\" target=\"_parent\"><img src=\"https://colab.research.google.com/assets/colab-badge.svg\" alt=\"Open In Colab\"/></a>"
      ]
    },
    {
      "cell_type": "code",
      "metadata": {
        "id": "ul7hnCc-CBgi",
        "colab": {
          "base_uri": "https://localhost:8080/",
          "height": 34
        },
        "outputId": "7b3bd831-8594-4aae-e0ca-50c78237211c"
      },
      "source": [
        "from google.colab import drive\n",
        "drive.mount('/content/drive')\n"
      ],
      "execution_count": null,
      "outputs": [
        {
          "output_type": "stream",
          "text": [
            "Drive already mounted at /content/drive; to attempt to forcibly remount, call drive.mount(\"/content/drive\", force_remount=True).\n"
          ],
          "name": "stdout"
        }
      ]
    },
    {
      "cell_type": "code",
      "metadata": {
        "id": "bsLq-MXbCW-A",
        "colab": {
          "base_uri": "https://localhost:8080/",
          "height": 68
        },
        "outputId": "ed9ab6b5-7acb-4cbf-93b8-14ee7adf5841"
      },
      "source": [
        "%cd drive\n",
        "%cd My\\ Drive\n",
        "%cd dataset"
      ],
      "execution_count": null,
      "outputs": [
        {
          "output_type": "stream",
          "text": [
            "/content/drive\n",
            "/content/drive/My Drive\n",
            "/content/drive/My Drive/dataset\n"
          ],
          "name": "stdout"
        }
      ]
    },
    {
      "cell_type": "markdown",
      "metadata": {
        "id": "BHBWnYnusejy"
      },
      "source": [
        "Reading the file that contains Airlines data"
      ]
    },
    {
      "cell_type": "code",
      "metadata": {
        "id": "vXuurZ8_CaAS",
        "colab": {
          "base_uri": "https://localhost:8080/",
          "height": 483
        },
        "outputId": "f888c9e2-1ee2-4892-a80e-f93b5fb6c4f6"
      },
      "source": [
        "import pandas as pd\n",
        "df = pd.read_csv(\"airlines.csv\")\n",
        "df\n"
      ],
      "execution_count": null,
      "outputs": [
        {
          "output_type": "execute_result",
          "data": {
            "text/html": [
              "<div>\n",
              "<style scoped>\n",
              "    .dataframe tbody tr th:only-of-type {\n",
              "        vertical-align: middle;\n",
              "    }\n",
              "\n",
              "    .dataframe tbody tr th {\n",
              "        vertical-align: top;\n",
              "    }\n",
              "\n",
              "    .dataframe thead th {\n",
              "        text-align: right;\n",
              "    }\n",
              "</style>\n",
              "<table border=\"1\" class=\"dataframe\">\n",
              "  <thead>\n",
              "    <tr style=\"text-align: right;\">\n",
              "      <th></th>\n",
              "      <th>IATA_CODE</th>\n",
              "      <th>AIRLINE</th>\n",
              "    </tr>\n",
              "  </thead>\n",
              "  <tbody>\n",
              "    <tr>\n",
              "      <th>0</th>\n",
              "      <td>UA</td>\n",
              "      <td>United Air Lines Inc.</td>\n",
              "    </tr>\n",
              "    <tr>\n",
              "      <th>1</th>\n",
              "      <td>AA</td>\n",
              "      <td>American Airlines Inc.</td>\n",
              "    </tr>\n",
              "    <tr>\n",
              "      <th>2</th>\n",
              "      <td>US</td>\n",
              "      <td>US Airways Inc.</td>\n",
              "    </tr>\n",
              "    <tr>\n",
              "      <th>3</th>\n",
              "      <td>F9</td>\n",
              "      <td>Frontier Airlines Inc.</td>\n",
              "    </tr>\n",
              "    <tr>\n",
              "      <th>4</th>\n",
              "      <td>B6</td>\n",
              "      <td>JetBlue Airways</td>\n",
              "    </tr>\n",
              "    <tr>\n",
              "      <th>5</th>\n",
              "      <td>OO</td>\n",
              "      <td>Skywest Airlines Inc.</td>\n",
              "    </tr>\n",
              "    <tr>\n",
              "      <th>6</th>\n",
              "      <td>AS</td>\n",
              "      <td>Alaska Airlines Inc.</td>\n",
              "    </tr>\n",
              "    <tr>\n",
              "      <th>7</th>\n",
              "      <td>NK</td>\n",
              "      <td>Spirit Air Lines</td>\n",
              "    </tr>\n",
              "    <tr>\n",
              "      <th>8</th>\n",
              "      <td>WN</td>\n",
              "      <td>Southwest Airlines Co.</td>\n",
              "    </tr>\n",
              "    <tr>\n",
              "      <th>9</th>\n",
              "      <td>DL</td>\n",
              "      <td>Delta Air Lines Inc.</td>\n",
              "    </tr>\n",
              "    <tr>\n",
              "      <th>10</th>\n",
              "      <td>EV</td>\n",
              "      <td>Atlantic Southeast Airlines</td>\n",
              "    </tr>\n",
              "    <tr>\n",
              "      <th>11</th>\n",
              "      <td>HA</td>\n",
              "      <td>Hawaiian Airlines Inc.</td>\n",
              "    </tr>\n",
              "    <tr>\n",
              "      <th>12</th>\n",
              "      <td>MQ</td>\n",
              "      <td>American Eagle Airlines Inc.</td>\n",
              "    </tr>\n",
              "    <tr>\n",
              "      <th>13</th>\n",
              "      <td>VX</td>\n",
              "      <td>Virgin America</td>\n",
              "    </tr>\n",
              "  </tbody>\n",
              "</table>\n",
              "</div>"
            ],
            "text/plain": [
              "   IATA_CODE                       AIRLINE\n",
              "0         UA         United Air Lines Inc.\n",
              "1         AA        American Airlines Inc.\n",
              "2         US               US Airways Inc.\n",
              "3         F9        Frontier Airlines Inc.\n",
              "4         B6               JetBlue Airways\n",
              "5         OO         Skywest Airlines Inc.\n",
              "6         AS          Alaska Airlines Inc.\n",
              "7         NK              Spirit Air Lines\n",
              "8         WN        Southwest Airlines Co.\n",
              "9         DL          Delta Air Lines Inc.\n",
              "10        EV   Atlantic Southeast Airlines\n",
              "11        HA        Hawaiian Airlines Inc.\n",
              "12        MQ  American Eagle Airlines Inc.\n",
              "13        VX                Virgin America"
            ]
          },
          "metadata": {
            "tags": []
          },
          "execution_count": 3
        }
      ]
    },
    {
      "cell_type": "markdown",
      "metadata": {
        "id": "9IdzT3p5s3XB"
      },
      "source": [
        "Reading the files containing Airports data"
      ]
    },
    {
      "cell_type": "code",
      "metadata": {
        "id": "rVs6Jtv3Cely",
        "colab": {
          "base_uri": "https://localhost:8080/",
          "height": 419
        },
        "outputId": "a4113bb2-2180-4d51-ea81-538cc68a85ab"
      },
      "source": [
        "df = pd.read_csv(\"airports.csv\")\n",
        "df"
      ],
      "execution_count": null,
      "outputs": [
        {
          "output_type": "execute_result",
          "data": {
            "text/html": [
              "<div>\n",
              "<style scoped>\n",
              "    .dataframe tbody tr th:only-of-type {\n",
              "        vertical-align: middle;\n",
              "    }\n",
              "\n",
              "    .dataframe tbody tr th {\n",
              "        vertical-align: top;\n",
              "    }\n",
              "\n",
              "    .dataframe thead th {\n",
              "        text-align: right;\n",
              "    }\n",
              "</style>\n",
              "<table border=\"1\" class=\"dataframe\">\n",
              "  <thead>\n",
              "    <tr style=\"text-align: right;\">\n",
              "      <th></th>\n",
              "      <th>IATA_CODE</th>\n",
              "      <th>AIRPORT</th>\n",
              "      <th>CITY</th>\n",
              "      <th>STATE</th>\n",
              "      <th>COUNTRY</th>\n",
              "      <th>LATITUDE</th>\n",
              "      <th>LONGITUDE</th>\n",
              "    </tr>\n",
              "  </thead>\n",
              "  <tbody>\n",
              "    <tr>\n",
              "      <th>0</th>\n",
              "      <td>ABE</td>\n",
              "      <td>Lehigh Valley International Airport</td>\n",
              "      <td>Allentown</td>\n",
              "      <td>PA</td>\n",
              "      <td>USA</td>\n",
              "      <td>40.65236</td>\n",
              "      <td>-75.44040</td>\n",
              "    </tr>\n",
              "    <tr>\n",
              "      <th>1</th>\n",
              "      <td>ABI</td>\n",
              "      <td>Abilene Regional Airport</td>\n",
              "      <td>Abilene</td>\n",
              "      <td>TX</td>\n",
              "      <td>USA</td>\n",
              "      <td>32.41132</td>\n",
              "      <td>-99.68190</td>\n",
              "    </tr>\n",
              "    <tr>\n",
              "      <th>2</th>\n",
              "      <td>ABQ</td>\n",
              "      <td>Albuquerque International Sunport</td>\n",
              "      <td>Albuquerque</td>\n",
              "      <td>NM</td>\n",
              "      <td>USA</td>\n",
              "      <td>35.04022</td>\n",
              "      <td>-106.60919</td>\n",
              "    </tr>\n",
              "    <tr>\n",
              "      <th>3</th>\n",
              "      <td>ABR</td>\n",
              "      <td>Aberdeen Regional Airport</td>\n",
              "      <td>Aberdeen</td>\n",
              "      <td>SD</td>\n",
              "      <td>USA</td>\n",
              "      <td>45.44906</td>\n",
              "      <td>-98.42183</td>\n",
              "    </tr>\n",
              "    <tr>\n",
              "      <th>4</th>\n",
              "      <td>ABY</td>\n",
              "      <td>Southwest Georgia Regional Airport</td>\n",
              "      <td>Albany</td>\n",
              "      <td>GA</td>\n",
              "      <td>USA</td>\n",
              "      <td>31.53552</td>\n",
              "      <td>-84.19447</td>\n",
              "    </tr>\n",
              "    <tr>\n",
              "      <th>...</th>\n",
              "      <td>...</td>\n",
              "      <td>...</td>\n",
              "      <td>...</td>\n",
              "      <td>...</td>\n",
              "      <td>...</td>\n",
              "      <td>...</td>\n",
              "      <td>...</td>\n",
              "    </tr>\n",
              "    <tr>\n",
              "      <th>317</th>\n",
              "      <td>WRG</td>\n",
              "      <td>Wrangell Airport</td>\n",
              "      <td>Wrangell</td>\n",
              "      <td>AK</td>\n",
              "      <td>USA</td>\n",
              "      <td>56.48433</td>\n",
              "      <td>-132.36982</td>\n",
              "    </tr>\n",
              "    <tr>\n",
              "      <th>318</th>\n",
              "      <td>WYS</td>\n",
              "      <td>Westerly State Airport</td>\n",
              "      <td>West Yellowstone</td>\n",
              "      <td>MT</td>\n",
              "      <td>USA</td>\n",
              "      <td>44.68840</td>\n",
              "      <td>-111.11764</td>\n",
              "    </tr>\n",
              "    <tr>\n",
              "      <th>319</th>\n",
              "      <td>XNA</td>\n",
              "      <td>Northwest Arkansas Regional Airport</td>\n",
              "      <td>Fayetteville/Springdale/Rogers</td>\n",
              "      <td>AR</td>\n",
              "      <td>USA</td>\n",
              "      <td>36.28187</td>\n",
              "      <td>-94.30681</td>\n",
              "    </tr>\n",
              "    <tr>\n",
              "      <th>320</th>\n",
              "      <td>YAK</td>\n",
              "      <td>Yakutat Airport</td>\n",
              "      <td>Yakutat</td>\n",
              "      <td>AK</td>\n",
              "      <td>USA</td>\n",
              "      <td>59.50336</td>\n",
              "      <td>-139.66023</td>\n",
              "    </tr>\n",
              "    <tr>\n",
              "      <th>321</th>\n",
              "      <td>YUM</td>\n",
              "      <td>Yuma International Airport</td>\n",
              "      <td>Yuma</td>\n",
              "      <td>AZ</td>\n",
              "      <td>USA</td>\n",
              "      <td>32.65658</td>\n",
              "      <td>-114.60597</td>\n",
              "    </tr>\n",
              "  </tbody>\n",
              "</table>\n",
              "<p>322 rows × 7 columns</p>\n",
              "</div>"
            ],
            "text/plain": [
              "    IATA_CODE                              AIRPORT  ...  LATITUDE  LONGITUDE\n",
              "0         ABE  Lehigh Valley International Airport  ...  40.65236  -75.44040\n",
              "1         ABI             Abilene Regional Airport  ...  32.41132  -99.68190\n",
              "2         ABQ    Albuquerque International Sunport  ...  35.04022 -106.60919\n",
              "3         ABR            Aberdeen Regional Airport  ...  45.44906  -98.42183\n",
              "4         ABY   Southwest Georgia Regional Airport  ...  31.53552  -84.19447\n",
              "..        ...                                  ...  ...       ...        ...\n",
              "317       WRG                     Wrangell Airport  ...  56.48433 -132.36982\n",
              "318       WYS               Westerly State Airport  ...  44.68840 -111.11764\n",
              "319       XNA  Northwest Arkansas Regional Airport  ...  36.28187  -94.30681\n",
              "320       YAK                      Yakutat Airport  ...  59.50336 -139.66023\n",
              "321       YUM           Yuma International Airport  ...  32.65658 -114.60597\n",
              "\n",
              "[322 rows x 7 columns]"
            ]
          },
          "metadata": {
            "tags": []
          },
          "execution_count": 4
        }
      ]
    },
    {
      "cell_type": "markdown",
      "metadata": {
        "id": "FeslAMfis7oK"
      },
      "source": [
        "reading flight details"
      ]
    },
    {
      "cell_type": "code",
      "metadata": {
        "id": "-d4hK7krChxK",
        "colab": {
          "base_uri": "https://localhost:8080/",
          "height": 473
        },
        "outputId": "7e2f326c-cb94-4d98-e65a-3fbd3f709841"
      },
      "source": [
        "df = df = pd.read_csv(\"flights.csv\")\n",
        "df"
      ],
      "execution_count": null,
      "outputs": [
        {
          "output_type": "stream",
          "text": [
            "/usr/local/lib/python3.6/dist-packages/IPython/core/interactiveshell.py:2718: DtypeWarning: Columns (7,8) have mixed types.Specify dtype option on import or set low_memory=False.\n",
            "  interactivity=interactivity, compiler=compiler, result=result)\n"
          ],
          "name": "stderr"
        },
        {
          "output_type": "execute_result",
          "data": {
            "text/html": [
              "<div>\n",
              "<style scoped>\n",
              "    .dataframe tbody tr th:only-of-type {\n",
              "        vertical-align: middle;\n",
              "    }\n",
              "\n",
              "    .dataframe tbody tr th {\n",
              "        vertical-align: top;\n",
              "    }\n",
              "\n",
              "    .dataframe thead th {\n",
              "        text-align: right;\n",
              "    }\n",
              "</style>\n",
              "<table border=\"1\" class=\"dataframe\">\n",
              "  <thead>\n",
              "    <tr style=\"text-align: right;\">\n",
              "      <th></th>\n",
              "      <th>YEAR</th>\n",
              "      <th>MONTH</th>\n",
              "      <th>DAY</th>\n",
              "      <th>DAY_OF_WEEK</th>\n",
              "      <th>AIRLINE</th>\n",
              "      <th>FLIGHT_NUMBER</th>\n",
              "      <th>TAIL_NUMBER</th>\n",
              "      <th>ORIGIN_AIRPORT</th>\n",
              "      <th>DESTINATION_AIRPORT</th>\n",
              "      <th>SCHEDULED_DEPARTURE</th>\n",
              "      <th>DEPARTURE_TIME</th>\n",
              "      <th>DEPARTURE_DELAY</th>\n",
              "      <th>TAXI_OUT</th>\n",
              "      <th>WHEELS_OFF</th>\n",
              "      <th>SCHEDULED_TIME</th>\n",
              "      <th>ELAPSED_TIME</th>\n",
              "      <th>AIR_TIME</th>\n",
              "      <th>DISTANCE</th>\n",
              "      <th>WHEELS_ON</th>\n",
              "      <th>TAXI_IN</th>\n",
              "      <th>SCHEDULED_ARRIVAL</th>\n",
              "      <th>ARRIVAL_TIME</th>\n",
              "      <th>ARRIVAL_DELAY</th>\n",
              "      <th>DIVERTED</th>\n",
              "      <th>CANCELLED</th>\n",
              "      <th>CANCELLATION_REASON</th>\n",
              "      <th>AIR_SYSTEM_DELAY</th>\n",
              "      <th>SECURITY_DELAY</th>\n",
              "      <th>AIRLINE_DELAY</th>\n",
              "      <th>LATE_AIRCRAFT_DELAY</th>\n",
              "      <th>WEATHER_DELAY</th>\n",
              "    </tr>\n",
              "  </thead>\n",
              "  <tbody>\n",
              "    <tr>\n",
              "      <th>0</th>\n",
              "      <td>2015</td>\n",
              "      <td>1</td>\n",
              "      <td>1</td>\n",
              "      <td>4</td>\n",
              "      <td>AS</td>\n",
              "      <td>98</td>\n",
              "      <td>N407AS</td>\n",
              "      <td>ANC</td>\n",
              "      <td>SEA</td>\n",
              "      <td>5</td>\n",
              "      <td>2354.0</td>\n",
              "      <td>-11.0</td>\n",
              "      <td>21.0</td>\n",
              "      <td>15.0</td>\n",
              "      <td>205.0</td>\n",
              "      <td>194.0</td>\n",
              "      <td>169.0</td>\n",
              "      <td>1448</td>\n",
              "      <td>404.0</td>\n",
              "      <td>4.0</td>\n",
              "      <td>430</td>\n",
              "      <td>408.0</td>\n",
              "      <td>-22.0</td>\n",
              "      <td>0</td>\n",
              "      <td>0</td>\n",
              "      <td>NaN</td>\n",
              "      <td>NaN</td>\n",
              "      <td>NaN</td>\n",
              "      <td>NaN</td>\n",
              "      <td>NaN</td>\n",
              "      <td>NaN</td>\n",
              "    </tr>\n",
              "    <tr>\n",
              "      <th>1</th>\n",
              "      <td>2015</td>\n",
              "      <td>1</td>\n",
              "      <td>1</td>\n",
              "      <td>4</td>\n",
              "      <td>AA</td>\n",
              "      <td>2336</td>\n",
              "      <td>N3KUAA</td>\n",
              "      <td>LAX</td>\n",
              "      <td>PBI</td>\n",
              "      <td>10</td>\n",
              "      <td>2.0</td>\n",
              "      <td>-8.0</td>\n",
              "      <td>12.0</td>\n",
              "      <td>14.0</td>\n",
              "      <td>280.0</td>\n",
              "      <td>279.0</td>\n",
              "      <td>263.0</td>\n",
              "      <td>2330</td>\n",
              "      <td>737.0</td>\n",
              "      <td>4.0</td>\n",
              "      <td>750</td>\n",
              "      <td>741.0</td>\n",
              "      <td>-9.0</td>\n",
              "      <td>0</td>\n",
              "      <td>0</td>\n",
              "      <td>NaN</td>\n",
              "      <td>NaN</td>\n",
              "      <td>NaN</td>\n",
              "      <td>NaN</td>\n",
              "      <td>NaN</td>\n",
              "      <td>NaN</td>\n",
              "    </tr>\n",
              "    <tr>\n",
              "      <th>2</th>\n",
              "      <td>2015</td>\n",
              "      <td>1</td>\n",
              "      <td>1</td>\n",
              "      <td>4</td>\n",
              "      <td>US</td>\n",
              "      <td>840</td>\n",
              "      <td>N171US</td>\n",
              "      <td>SFO</td>\n",
              "      <td>CLT</td>\n",
              "      <td>20</td>\n",
              "      <td>18.0</td>\n",
              "      <td>-2.0</td>\n",
              "      <td>16.0</td>\n",
              "      <td>34.0</td>\n",
              "      <td>286.0</td>\n",
              "      <td>293.0</td>\n",
              "      <td>266.0</td>\n",
              "      <td>2296</td>\n",
              "      <td>800.0</td>\n",
              "      <td>11.0</td>\n",
              "      <td>806</td>\n",
              "      <td>811.0</td>\n",
              "      <td>5.0</td>\n",
              "      <td>0</td>\n",
              "      <td>0</td>\n",
              "      <td>NaN</td>\n",
              "      <td>NaN</td>\n",
              "      <td>NaN</td>\n",
              "      <td>NaN</td>\n",
              "      <td>NaN</td>\n",
              "      <td>NaN</td>\n",
              "    </tr>\n",
              "    <tr>\n",
              "      <th>3</th>\n",
              "      <td>2015</td>\n",
              "      <td>1</td>\n",
              "      <td>1</td>\n",
              "      <td>4</td>\n",
              "      <td>AA</td>\n",
              "      <td>258</td>\n",
              "      <td>N3HYAA</td>\n",
              "      <td>LAX</td>\n",
              "      <td>MIA</td>\n",
              "      <td>20</td>\n",
              "      <td>15.0</td>\n",
              "      <td>-5.0</td>\n",
              "      <td>15.0</td>\n",
              "      <td>30.0</td>\n",
              "      <td>285.0</td>\n",
              "      <td>281.0</td>\n",
              "      <td>258.0</td>\n",
              "      <td>2342</td>\n",
              "      <td>748.0</td>\n",
              "      <td>8.0</td>\n",
              "      <td>805</td>\n",
              "      <td>756.0</td>\n",
              "      <td>-9.0</td>\n",
              "      <td>0</td>\n",
              "      <td>0</td>\n",
              "      <td>NaN</td>\n",
              "      <td>NaN</td>\n",
              "      <td>NaN</td>\n",
              "      <td>NaN</td>\n",
              "      <td>NaN</td>\n",
              "      <td>NaN</td>\n",
              "    </tr>\n",
              "    <tr>\n",
              "      <th>4</th>\n",
              "      <td>2015</td>\n",
              "      <td>1</td>\n",
              "      <td>1</td>\n",
              "      <td>4</td>\n",
              "      <td>AS</td>\n",
              "      <td>135</td>\n",
              "      <td>N527AS</td>\n",
              "      <td>SEA</td>\n",
              "      <td>ANC</td>\n",
              "      <td>25</td>\n",
              "      <td>24.0</td>\n",
              "      <td>-1.0</td>\n",
              "      <td>11.0</td>\n",
              "      <td>35.0</td>\n",
              "      <td>235.0</td>\n",
              "      <td>215.0</td>\n",
              "      <td>199.0</td>\n",
              "      <td>1448</td>\n",
              "      <td>254.0</td>\n",
              "      <td>5.0</td>\n",
              "      <td>320</td>\n",
              "      <td>259.0</td>\n",
              "      <td>-21.0</td>\n",
              "      <td>0</td>\n",
              "      <td>0</td>\n",
              "      <td>NaN</td>\n",
              "      <td>NaN</td>\n",
              "      <td>NaN</td>\n",
              "      <td>NaN</td>\n",
              "      <td>NaN</td>\n",
              "      <td>NaN</td>\n",
              "    </tr>\n",
              "    <tr>\n",
              "      <th>...</th>\n",
              "      <td>...</td>\n",
              "      <td>...</td>\n",
              "      <td>...</td>\n",
              "      <td>...</td>\n",
              "      <td>...</td>\n",
              "      <td>...</td>\n",
              "      <td>...</td>\n",
              "      <td>...</td>\n",
              "      <td>...</td>\n",
              "      <td>...</td>\n",
              "      <td>...</td>\n",
              "      <td>...</td>\n",
              "      <td>...</td>\n",
              "      <td>...</td>\n",
              "      <td>...</td>\n",
              "      <td>...</td>\n",
              "      <td>...</td>\n",
              "      <td>...</td>\n",
              "      <td>...</td>\n",
              "      <td>...</td>\n",
              "      <td>...</td>\n",
              "      <td>...</td>\n",
              "      <td>...</td>\n",
              "      <td>...</td>\n",
              "      <td>...</td>\n",
              "      <td>...</td>\n",
              "      <td>...</td>\n",
              "      <td>...</td>\n",
              "      <td>...</td>\n",
              "      <td>...</td>\n",
              "      <td>...</td>\n",
              "    </tr>\n",
              "    <tr>\n",
              "      <th>5819074</th>\n",
              "      <td>2015</td>\n",
              "      <td>12</td>\n",
              "      <td>31</td>\n",
              "      <td>4</td>\n",
              "      <td>B6</td>\n",
              "      <td>688</td>\n",
              "      <td>N657JB</td>\n",
              "      <td>LAX</td>\n",
              "      <td>BOS</td>\n",
              "      <td>2359</td>\n",
              "      <td>2355.0</td>\n",
              "      <td>-4.0</td>\n",
              "      <td>22.0</td>\n",
              "      <td>17.0</td>\n",
              "      <td>320.0</td>\n",
              "      <td>298.0</td>\n",
              "      <td>272.0</td>\n",
              "      <td>2611</td>\n",
              "      <td>749.0</td>\n",
              "      <td>4.0</td>\n",
              "      <td>819</td>\n",
              "      <td>753.0</td>\n",
              "      <td>-26.0</td>\n",
              "      <td>0</td>\n",
              "      <td>0</td>\n",
              "      <td>NaN</td>\n",
              "      <td>NaN</td>\n",
              "      <td>NaN</td>\n",
              "      <td>NaN</td>\n",
              "      <td>NaN</td>\n",
              "      <td>NaN</td>\n",
              "    </tr>\n",
              "    <tr>\n",
              "      <th>5819075</th>\n",
              "      <td>2015</td>\n",
              "      <td>12</td>\n",
              "      <td>31</td>\n",
              "      <td>4</td>\n",
              "      <td>B6</td>\n",
              "      <td>745</td>\n",
              "      <td>N828JB</td>\n",
              "      <td>JFK</td>\n",
              "      <td>PSE</td>\n",
              "      <td>2359</td>\n",
              "      <td>2355.0</td>\n",
              "      <td>-4.0</td>\n",
              "      <td>17.0</td>\n",
              "      <td>12.0</td>\n",
              "      <td>227.0</td>\n",
              "      <td>215.0</td>\n",
              "      <td>195.0</td>\n",
              "      <td>1617</td>\n",
              "      <td>427.0</td>\n",
              "      <td>3.0</td>\n",
              "      <td>446</td>\n",
              "      <td>430.0</td>\n",
              "      <td>-16.0</td>\n",
              "      <td>0</td>\n",
              "      <td>0</td>\n",
              "      <td>NaN</td>\n",
              "      <td>NaN</td>\n",
              "      <td>NaN</td>\n",
              "      <td>NaN</td>\n",
              "      <td>NaN</td>\n",
              "      <td>NaN</td>\n",
              "    </tr>\n",
              "    <tr>\n",
              "      <th>5819076</th>\n",
              "      <td>2015</td>\n",
              "      <td>12</td>\n",
              "      <td>31</td>\n",
              "      <td>4</td>\n",
              "      <td>B6</td>\n",
              "      <td>1503</td>\n",
              "      <td>N913JB</td>\n",
              "      <td>JFK</td>\n",
              "      <td>SJU</td>\n",
              "      <td>2359</td>\n",
              "      <td>2350.0</td>\n",
              "      <td>-9.0</td>\n",
              "      <td>17.0</td>\n",
              "      <td>7.0</td>\n",
              "      <td>221.0</td>\n",
              "      <td>222.0</td>\n",
              "      <td>197.0</td>\n",
              "      <td>1598</td>\n",
              "      <td>424.0</td>\n",
              "      <td>8.0</td>\n",
              "      <td>440</td>\n",
              "      <td>432.0</td>\n",
              "      <td>-8.0</td>\n",
              "      <td>0</td>\n",
              "      <td>0</td>\n",
              "      <td>NaN</td>\n",
              "      <td>NaN</td>\n",
              "      <td>NaN</td>\n",
              "      <td>NaN</td>\n",
              "      <td>NaN</td>\n",
              "      <td>NaN</td>\n",
              "    </tr>\n",
              "    <tr>\n",
              "      <th>5819077</th>\n",
              "      <td>2015</td>\n",
              "      <td>12</td>\n",
              "      <td>31</td>\n",
              "      <td>4</td>\n",
              "      <td>B6</td>\n",
              "      <td>333</td>\n",
              "      <td>N527JB</td>\n",
              "      <td>MCO</td>\n",
              "      <td>SJU</td>\n",
              "      <td>2359</td>\n",
              "      <td>2353.0</td>\n",
              "      <td>-6.0</td>\n",
              "      <td>10.0</td>\n",
              "      <td>3.0</td>\n",
              "      <td>161.0</td>\n",
              "      <td>157.0</td>\n",
              "      <td>144.0</td>\n",
              "      <td>1189</td>\n",
              "      <td>327.0</td>\n",
              "      <td>3.0</td>\n",
              "      <td>340</td>\n",
              "      <td>330.0</td>\n",
              "      <td>-10.0</td>\n",
              "      <td>0</td>\n",
              "      <td>0</td>\n",
              "      <td>NaN</td>\n",
              "      <td>NaN</td>\n",
              "      <td>NaN</td>\n",
              "      <td>NaN</td>\n",
              "      <td>NaN</td>\n",
              "      <td>NaN</td>\n",
              "    </tr>\n",
              "    <tr>\n",
              "      <th>5819078</th>\n",
              "      <td>2015</td>\n",
              "      <td>12</td>\n",
              "      <td>31</td>\n",
              "      <td>4</td>\n",
              "      <td>B6</td>\n",
              "      <td>839</td>\n",
              "      <td>N534JB</td>\n",
              "      <td>JFK</td>\n",
              "      <td>BQN</td>\n",
              "      <td>2359</td>\n",
              "      <td>14.0</td>\n",
              "      <td>15.0</td>\n",
              "      <td>14.0</td>\n",
              "      <td>28.0</td>\n",
              "      <td>221.0</td>\n",
              "      <td>208.0</td>\n",
              "      <td>189.0</td>\n",
              "      <td>1576</td>\n",
              "      <td>437.0</td>\n",
              "      <td>5.0</td>\n",
              "      <td>440</td>\n",
              "      <td>442.0</td>\n",
              "      <td>2.0</td>\n",
              "      <td>0</td>\n",
              "      <td>0</td>\n",
              "      <td>NaN</td>\n",
              "      <td>NaN</td>\n",
              "      <td>NaN</td>\n",
              "      <td>NaN</td>\n",
              "      <td>NaN</td>\n",
              "      <td>NaN</td>\n",
              "    </tr>\n",
              "  </tbody>\n",
              "</table>\n",
              "<p>5819079 rows × 31 columns</p>\n",
              "</div>"
            ],
            "text/plain": [
              "         YEAR  MONTH  DAY  ...  AIRLINE_DELAY LATE_AIRCRAFT_DELAY  WEATHER_DELAY\n",
              "0        2015      1    1  ...            NaN                 NaN            NaN\n",
              "1        2015      1    1  ...            NaN                 NaN            NaN\n",
              "2        2015      1    1  ...            NaN                 NaN            NaN\n",
              "3        2015      1    1  ...            NaN                 NaN            NaN\n",
              "4        2015      1    1  ...            NaN                 NaN            NaN\n",
              "...       ...    ...  ...  ...            ...                 ...            ...\n",
              "5819074  2015     12   31  ...            NaN                 NaN            NaN\n",
              "5819075  2015     12   31  ...            NaN                 NaN            NaN\n",
              "5819076  2015     12   31  ...            NaN                 NaN            NaN\n",
              "5819077  2015     12   31  ...            NaN                 NaN            NaN\n",
              "5819078  2015     12   31  ...            NaN                 NaN            NaN\n",
              "\n",
              "[5819079 rows x 31 columns]"
            ]
          },
          "metadata": {
            "tags": []
          },
          "execution_count": 5
        }
      ]
    },
    {
      "cell_type": "markdown",
      "metadata": {
        "id": "5QsB72OmtAb9"
      },
      "source": [
        "I've concerted the date in yyyy-mm-dd format for convinience "
      ]
    },
    {
      "cell_type": "code",
      "metadata": {
        "id": "euv043h1Cphk",
        "colab": {
          "base_uri": "https://localhost:8080/",
          "height": 609
        },
        "outputId": "6ca546ba-02d9-4bc0-848c-dc648a675a5b"
      },
      "source": [
        "df['DATE'] = pd.to_datetime(df[['YEAR','MONTH', 'DAY']])\n",
        "df"
      ],
      "execution_count": null,
      "outputs": [
        {
          "output_type": "execute_result",
          "data": {
            "text/html": [
              "<div>\n",
              "<style scoped>\n",
              "    .dataframe tbody tr th:only-of-type {\n",
              "        vertical-align: middle;\n",
              "    }\n",
              "\n",
              "    .dataframe tbody tr th {\n",
              "        vertical-align: top;\n",
              "    }\n",
              "\n",
              "    .dataframe thead th {\n",
              "        text-align: right;\n",
              "    }\n",
              "</style>\n",
              "<table border=\"1\" class=\"dataframe\">\n",
              "  <thead>\n",
              "    <tr style=\"text-align: right;\">\n",
              "      <th></th>\n",
              "      <th>YEAR</th>\n",
              "      <th>MONTH</th>\n",
              "      <th>DAY</th>\n",
              "      <th>DAY_OF_WEEK</th>\n",
              "      <th>AIRLINE</th>\n",
              "      <th>FLIGHT_NUMBER</th>\n",
              "      <th>TAIL_NUMBER</th>\n",
              "      <th>ORIGIN_AIRPORT</th>\n",
              "      <th>DESTINATION_AIRPORT</th>\n",
              "      <th>SCHEDULED_DEPARTURE</th>\n",
              "      <th>DEPARTURE_TIME</th>\n",
              "      <th>DEPARTURE_DELAY</th>\n",
              "      <th>TAXI_OUT</th>\n",
              "      <th>WHEELS_OFF</th>\n",
              "      <th>SCHEDULED_TIME</th>\n",
              "      <th>ELAPSED_TIME</th>\n",
              "      <th>AIR_TIME</th>\n",
              "      <th>DISTANCE</th>\n",
              "      <th>WHEELS_ON</th>\n",
              "      <th>TAXI_IN</th>\n",
              "      <th>SCHEDULED_ARRIVAL</th>\n",
              "      <th>ARRIVAL_TIME</th>\n",
              "      <th>ARRIVAL_DELAY</th>\n",
              "      <th>DIVERTED</th>\n",
              "      <th>CANCELLED</th>\n",
              "      <th>CANCELLATION_REASON</th>\n",
              "      <th>AIR_SYSTEM_DELAY</th>\n",
              "      <th>SECURITY_DELAY</th>\n",
              "      <th>AIRLINE_DELAY</th>\n",
              "      <th>LATE_AIRCRAFT_DELAY</th>\n",
              "      <th>WEATHER_DELAY</th>\n",
              "      <th>DATE</th>\n",
              "    </tr>\n",
              "  </thead>\n",
              "  <tbody>\n",
              "    <tr>\n",
              "      <th>0</th>\n",
              "      <td>2015</td>\n",
              "      <td>1</td>\n",
              "      <td>1</td>\n",
              "      <td>4</td>\n",
              "      <td>AS</td>\n",
              "      <td>98</td>\n",
              "      <td>N407AS</td>\n",
              "      <td>ANC</td>\n",
              "      <td>SEA</td>\n",
              "      <td>5</td>\n",
              "      <td>2354.0</td>\n",
              "      <td>-11.0</td>\n",
              "      <td>21.0</td>\n",
              "      <td>15.0</td>\n",
              "      <td>205.0</td>\n",
              "      <td>194.0</td>\n",
              "      <td>169.0</td>\n",
              "      <td>1448</td>\n",
              "      <td>404.0</td>\n",
              "      <td>4.0</td>\n",
              "      <td>430</td>\n",
              "      <td>408.0</td>\n",
              "      <td>-22.0</td>\n",
              "      <td>0</td>\n",
              "      <td>0</td>\n",
              "      <td>NaN</td>\n",
              "      <td>NaN</td>\n",
              "      <td>NaN</td>\n",
              "      <td>NaN</td>\n",
              "      <td>NaN</td>\n",
              "      <td>NaN</td>\n",
              "      <td>2015-01-01</td>\n",
              "    </tr>\n",
              "    <tr>\n",
              "      <th>1</th>\n",
              "      <td>2015</td>\n",
              "      <td>1</td>\n",
              "      <td>1</td>\n",
              "      <td>4</td>\n",
              "      <td>AA</td>\n",
              "      <td>2336</td>\n",
              "      <td>N3KUAA</td>\n",
              "      <td>LAX</td>\n",
              "      <td>PBI</td>\n",
              "      <td>10</td>\n",
              "      <td>2.0</td>\n",
              "      <td>-8.0</td>\n",
              "      <td>12.0</td>\n",
              "      <td>14.0</td>\n",
              "      <td>280.0</td>\n",
              "      <td>279.0</td>\n",
              "      <td>263.0</td>\n",
              "      <td>2330</td>\n",
              "      <td>737.0</td>\n",
              "      <td>4.0</td>\n",
              "      <td>750</td>\n",
              "      <td>741.0</td>\n",
              "      <td>-9.0</td>\n",
              "      <td>0</td>\n",
              "      <td>0</td>\n",
              "      <td>NaN</td>\n",
              "      <td>NaN</td>\n",
              "      <td>NaN</td>\n",
              "      <td>NaN</td>\n",
              "      <td>NaN</td>\n",
              "      <td>NaN</td>\n",
              "      <td>2015-01-01</td>\n",
              "    </tr>\n",
              "    <tr>\n",
              "      <th>2</th>\n",
              "      <td>2015</td>\n",
              "      <td>1</td>\n",
              "      <td>1</td>\n",
              "      <td>4</td>\n",
              "      <td>US</td>\n",
              "      <td>840</td>\n",
              "      <td>N171US</td>\n",
              "      <td>SFO</td>\n",
              "      <td>CLT</td>\n",
              "      <td>20</td>\n",
              "      <td>18.0</td>\n",
              "      <td>-2.0</td>\n",
              "      <td>16.0</td>\n",
              "      <td>34.0</td>\n",
              "      <td>286.0</td>\n",
              "      <td>293.0</td>\n",
              "      <td>266.0</td>\n",
              "      <td>2296</td>\n",
              "      <td>800.0</td>\n",
              "      <td>11.0</td>\n",
              "      <td>806</td>\n",
              "      <td>811.0</td>\n",
              "      <td>5.0</td>\n",
              "      <td>0</td>\n",
              "      <td>0</td>\n",
              "      <td>NaN</td>\n",
              "      <td>NaN</td>\n",
              "      <td>NaN</td>\n",
              "      <td>NaN</td>\n",
              "      <td>NaN</td>\n",
              "      <td>NaN</td>\n",
              "      <td>2015-01-01</td>\n",
              "    </tr>\n",
              "    <tr>\n",
              "      <th>3</th>\n",
              "      <td>2015</td>\n",
              "      <td>1</td>\n",
              "      <td>1</td>\n",
              "      <td>4</td>\n",
              "      <td>AA</td>\n",
              "      <td>258</td>\n",
              "      <td>N3HYAA</td>\n",
              "      <td>LAX</td>\n",
              "      <td>MIA</td>\n",
              "      <td>20</td>\n",
              "      <td>15.0</td>\n",
              "      <td>-5.0</td>\n",
              "      <td>15.0</td>\n",
              "      <td>30.0</td>\n",
              "      <td>285.0</td>\n",
              "      <td>281.0</td>\n",
              "      <td>258.0</td>\n",
              "      <td>2342</td>\n",
              "      <td>748.0</td>\n",
              "      <td>8.0</td>\n",
              "      <td>805</td>\n",
              "      <td>756.0</td>\n",
              "      <td>-9.0</td>\n",
              "      <td>0</td>\n",
              "      <td>0</td>\n",
              "      <td>NaN</td>\n",
              "      <td>NaN</td>\n",
              "      <td>NaN</td>\n",
              "      <td>NaN</td>\n",
              "      <td>NaN</td>\n",
              "      <td>NaN</td>\n",
              "      <td>2015-01-01</td>\n",
              "    </tr>\n",
              "    <tr>\n",
              "      <th>4</th>\n",
              "      <td>2015</td>\n",
              "      <td>1</td>\n",
              "      <td>1</td>\n",
              "      <td>4</td>\n",
              "      <td>AS</td>\n",
              "      <td>135</td>\n",
              "      <td>N527AS</td>\n",
              "      <td>SEA</td>\n",
              "      <td>ANC</td>\n",
              "      <td>25</td>\n",
              "      <td>24.0</td>\n",
              "      <td>-1.0</td>\n",
              "      <td>11.0</td>\n",
              "      <td>35.0</td>\n",
              "      <td>235.0</td>\n",
              "      <td>215.0</td>\n",
              "      <td>199.0</td>\n",
              "      <td>1448</td>\n",
              "      <td>254.0</td>\n",
              "      <td>5.0</td>\n",
              "      <td>320</td>\n",
              "      <td>259.0</td>\n",
              "      <td>-21.0</td>\n",
              "      <td>0</td>\n",
              "      <td>0</td>\n",
              "      <td>NaN</td>\n",
              "      <td>NaN</td>\n",
              "      <td>NaN</td>\n",
              "      <td>NaN</td>\n",
              "      <td>NaN</td>\n",
              "      <td>NaN</td>\n",
              "      <td>2015-01-01</td>\n",
              "    </tr>\n",
              "    <tr>\n",
              "      <th>...</th>\n",
              "      <td>...</td>\n",
              "      <td>...</td>\n",
              "      <td>...</td>\n",
              "      <td>...</td>\n",
              "      <td>...</td>\n",
              "      <td>...</td>\n",
              "      <td>...</td>\n",
              "      <td>...</td>\n",
              "      <td>...</td>\n",
              "      <td>...</td>\n",
              "      <td>...</td>\n",
              "      <td>...</td>\n",
              "      <td>...</td>\n",
              "      <td>...</td>\n",
              "      <td>...</td>\n",
              "      <td>...</td>\n",
              "      <td>...</td>\n",
              "      <td>...</td>\n",
              "      <td>...</td>\n",
              "      <td>...</td>\n",
              "      <td>...</td>\n",
              "      <td>...</td>\n",
              "      <td>...</td>\n",
              "      <td>...</td>\n",
              "      <td>...</td>\n",
              "      <td>...</td>\n",
              "      <td>...</td>\n",
              "      <td>...</td>\n",
              "      <td>...</td>\n",
              "      <td>...</td>\n",
              "      <td>...</td>\n",
              "      <td>...</td>\n",
              "    </tr>\n",
              "    <tr>\n",
              "      <th>5819074</th>\n",
              "      <td>2015</td>\n",
              "      <td>12</td>\n",
              "      <td>31</td>\n",
              "      <td>4</td>\n",
              "      <td>B6</td>\n",
              "      <td>688</td>\n",
              "      <td>N657JB</td>\n",
              "      <td>LAX</td>\n",
              "      <td>BOS</td>\n",
              "      <td>2359</td>\n",
              "      <td>2355.0</td>\n",
              "      <td>-4.0</td>\n",
              "      <td>22.0</td>\n",
              "      <td>17.0</td>\n",
              "      <td>320.0</td>\n",
              "      <td>298.0</td>\n",
              "      <td>272.0</td>\n",
              "      <td>2611</td>\n",
              "      <td>749.0</td>\n",
              "      <td>4.0</td>\n",
              "      <td>819</td>\n",
              "      <td>753.0</td>\n",
              "      <td>-26.0</td>\n",
              "      <td>0</td>\n",
              "      <td>0</td>\n",
              "      <td>NaN</td>\n",
              "      <td>NaN</td>\n",
              "      <td>NaN</td>\n",
              "      <td>NaN</td>\n",
              "      <td>NaN</td>\n",
              "      <td>NaN</td>\n",
              "      <td>2015-12-31</td>\n",
              "    </tr>\n",
              "    <tr>\n",
              "      <th>5819075</th>\n",
              "      <td>2015</td>\n",
              "      <td>12</td>\n",
              "      <td>31</td>\n",
              "      <td>4</td>\n",
              "      <td>B6</td>\n",
              "      <td>745</td>\n",
              "      <td>N828JB</td>\n",
              "      <td>JFK</td>\n",
              "      <td>PSE</td>\n",
              "      <td>2359</td>\n",
              "      <td>2355.0</td>\n",
              "      <td>-4.0</td>\n",
              "      <td>17.0</td>\n",
              "      <td>12.0</td>\n",
              "      <td>227.0</td>\n",
              "      <td>215.0</td>\n",
              "      <td>195.0</td>\n",
              "      <td>1617</td>\n",
              "      <td>427.0</td>\n",
              "      <td>3.0</td>\n",
              "      <td>446</td>\n",
              "      <td>430.0</td>\n",
              "      <td>-16.0</td>\n",
              "      <td>0</td>\n",
              "      <td>0</td>\n",
              "      <td>NaN</td>\n",
              "      <td>NaN</td>\n",
              "      <td>NaN</td>\n",
              "      <td>NaN</td>\n",
              "      <td>NaN</td>\n",
              "      <td>NaN</td>\n",
              "      <td>2015-12-31</td>\n",
              "    </tr>\n",
              "    <tr>\n",
              "      <th>5819076</th>\n",
              "      <td>2015</td>\n",
              "      <td>12</td>\n",
              "      <td>31</td>\n",
              "      <td>4</td>\n",
              "      <td>B6</td>\n",
              "      <td>1503</td>\n",
              "      <td>N913JB</td>\n",
              "      <td>JFK</td>\n",
              "      <td>SJU</td>\n",
              "      <td>2359</td>\n",
              "      <td>2350.0</td>\n",
              "      <td>-9.0</td>\n",
              "      <td>17.0</td>\n",
              "      <td>7.0</td>\n",
              "      <td>221.0</td>\n",
              "      <td>222.0</td>\n",
              "      <td>197.0</td>\n",
              "      <td>1598</td>\n",
              "      <td>424.0</td>\n",
              "      <td>8.0</td>\n",
              "      <td>440</td>\n",
              "      <td>432.0</td>\n",
              "      <td>-8.0</td>\n",
              "      <td>0</td>\n",
              "      <td>0</td>\n",
              "      <td>NaN</td>\n",
              "      <td>NaN</td>\n",
              "      <td>NaN</td>\n",
              "      <td>NaN</td>\n",
              "      <td>NaN</td>\n",
              "      <td>NaN</td>\n",
              "      <td>2015-12-31</td>\n",
              "    </tr>\n",
              "    <tr>\n",
              "      <th>5819077</th>\n",
              "      <td>2015</td>\n",
              "      <td>12</td>\n",
              "      <td>31</td>\n",
              "      <td>4</td>\n",
              "      <td>B6</td>\n",
              "      <td>333</td>\n",
              "      <td>N527JB</td>\n",
              "      <td>MCO</td>\n",
              "      <td>SJU</td>\n",
              "      <td>2359</td>\n",
              "      <td>2353.0</td>\n",
              "      <td>-6.0</td>\n",
              "      <td>10.0</td>\n",
              "      <td>3.0</td>\n",
              "      <td>161.0</td>\n",
              "      <td>157.0</td>\n",
              "      <td>144.0</td>\n",
              "      <td>1189</td>\n",
              "      <td>327.0</td>\n",
              "      <td>3.0</td>\n",
              "      <td>340</td>\n",
              "      <td>330.0</td>\n",
              "      <td>-10.0</td>\n",
              "      <td>0</td>\n",
              "      <td>0</td>\n",
              "      <td>NaN</td>\n",
              "      <td>NaN</td>\n",
              "      <td>NaN</td>\n",
              "      <td>NaN</td>\n",
              "      <td>NaN</td>\n",
              "      <td>NaN</td>\n",
              "      <td>2015-12-31</td>\n",
              "    </tr>\n",
              "    <tr>\n",
              "      <th>5819078</th>\n",
              "      <td>2015</td>\n",
              "      <td>12</td>\n",
              "      <td>31</td>\n",
              "      <td>4</td>\n",
              "      <td>B6</td>\n",
              "      <td>839</td>\n",
              "      <td>N534JB</td>\n",
              "      <td>JFK</td>\n",
              "      <td>BQN</td>\n",
              "      <td>2359</td>\n",
              "      <td>14.0</td>\n",
              "      <td>15.0</td>\n",
              "      <td>14.0</td>\n",
              "      <td>28.0</td>\n",
              "      <td>221.0</td>\n",
              "      <td>208.0</td>\n",
              "      <td>189.0</td>\n",
              "      <td>1576</td>\n",
              "      <td>437.0</td>\n",
              "      <td>5.0</td>\n",
              "      <td>440</td>\n",
              "      <td>442.0</td>\n",
              "      <td>2.0</td>\n",
              "      <td>0</td>\n",
              "      <td>0</td>\n",
              "      <td>NaN</td>\n",
              "      <td>NaN</td>\n",
              "      <td>NaN</td>\n",
              "      <td>NaN</td>\n",
              "      <td>NaN</td>\n",
              "      <td>NaN</td>\n",
              "      <td>2015-12-31</td>\n",
              "    </tr>\n",
              "  </tbody>\n",
              "</table>\n",
              "<p>5819079 rows × 32 columns</p>\n",
              "</div>"
            ],
            "text/plain": [
              "         YEAR  MONTH  DAY  ...  LATE_AIRCRAFT_DELAY WEATHER_DELAY       DATE\n",
              "0        2015      1    1  ...                  NaN           NaN 2015-01-01\n",
              "1        2015      1    1  ...                  NaN           NaN 2015-01-01\n",
              "2        2015      1    1  ...                  NaN           NaN 2015-01-01\n",
              "3        2015      1    1  ...                  NaN           NaN 2015-01-01\n",
              "4        2015      1    1  ...                  NaN           NaN 2015-01-01\n",
              "...       ...    ...  ...  ...                  ...           ...        ...\n",
              "5819074  2015     12   31  ...                  NaN           NaN 2015-12-31\n",
              "5819075  2015     12   31  ...                  NaN           NaN 2015-12-31\n",
              "5819076  2015     12   31  ...                  NaN           NaN 2015-12-31\n",
              "5819077  2015     12   31  ...                  NaN           NaN 2015-12-31\n",
              "5819078  2015     12   31  ...                  NaN           NaN 2015-12-31\n",
              "\n",
              "[5819079 rows x 32 columns]"
            ]
          },
          "metadata": {
            "tags": []
          },
          "execution_count": 6
        }
      ]
    },
    {
      "cell_type": "markdown",
      "metadata": {
        "id": "a3V6wqQ3tgvB"
      },
      "source": [
        "we see that the hour of departure is in float, where the first 2 nos. denaote hours and last 2 minutes. So we try and merge the take off hour with date."
      ]
    },
    {
      "cell_type": "code",
      "metadata": {
        "id": "8AKiwA49CvUS"
      },
      "source": [
        "import numpy as np\n",
        "import datetime\n",
        "def format_hours(hours):\n",
        "    if pd.isnull(hours):\n",
        "        return np.nan\n",
        "    else:\n",
        "        if hours == 2400:\n",
        "           hours = 0\n",
        "      \n",
        "        hours = \"{0:04d}\".format(int(hours))\n",
        "        phours = datetime.time(int(hours[0:2]), int(hours[2:4]))\n",
        "        return phours\n",
        "\n",
        "def combine_date_hours(x):\n",
        "    if pd.isnull(x[0]) or pd.isnull(x[1]):\n",
        "        return np.nan\n",
        "    else:\n",
        "        return datetime.datetime.combine(x[0],x[1])\n",
        "\n",
        "def create_flight_time(df, col):    \n",
        "    list=[]\n",
        "    for index, cols in df[['DATE', col]].iterrows():    \n",
        "        if pd.isnull(cols[1]):\n",
        "            list.append(np.nan)\n",
        "        elif float(cols[1]) == 2400:\n",
        "            cols[0] += datetime.timedelta(days=1)\n",
        "            cols[1] = datetime.time(0,0)\n",
        "            list.append(combine_date_hours(cols))\n",
        "        else:\n",
        "            cols[1] = format_hours(cols[1])\n",
        "            list.append(combine_date_hours(cols))\n",
        "    return pd.Series(list)"
      ],
      "execution_count": null,
      "outputs": []
    },
    {
      "cell_type": "markdown",
      "metadata": {
        "id": "Adys7ByIuX5U"
      },
      "source": [
        "I'm finally keeping the variables that are required and re-organize the columns "
      ]
    },
    {
      "cell_type": "code",
      "metadata": {
        "id": "E2YOtPWhC08T",
        "colab": {
          "base_uri": "https://localhost:8080/",
          "height": 235
        },
        "outputId": "b2cdfdb6-2e2e-41c8-816b-650e9fb9e536"
      },
      "source": [
        "df['SCHEDULED_DEPARTURE'] = create_flight_time(df, 'SCHEDULED_DEPARTURE')\n",
        "df['DEPARTURE_TIME'] = df['DEPARTURE_TIME'].apply(format_hours)\n",
        "df['SCHEDULED_ARRIVAL'] = df['SCHEDULED_ARRIVAL'].apply(format_hours)\n",
        "df['ARRIVAL_TIME'] = df['ARRIVAL_TIME'].apply(format_hours)\n",
        "#__________________________________________________________________________\n",
        "df.loc[:5, ['SCHEDULED_DEPARTURE', 'SCHEDULED_ARRIVAL', 'DEPARTURE_TIME',\n",
        "             'ARRIVAL_TIME', 'DEPARTURE_DELAY', 'ARRIVAL_DELAY']]"
      ],
      "execution_count": null,
      "outputs": [
        {
          "output_type": "execute_result",
          "data": {
            "text/html": [
              "<div>\n",
              "<style scoped>\n",
              "    .dataframe tbody tr th:only-of-type {\n",
              "        vertical-align: middle;\n",
              "    }\n",
              "\n",
              "    .dataframe tbody tr th {\n",
              "        vertical-align: top;\n",
              "    }\n",
              "\n",
              "    .dataframe thead th {\n",
              "        text-align: right;\n",
              "    }\n",
              "</style>\n",
              "<table border=\"1\" class=\"dataframe\">\n",
              "  <thead>\n",
              "    <tr style=\"text-align: right;\">\n",
              "      <th></th>\n",
              "      <th>SCHEDULED_DEPARTURE</th>\n",
              "      <th>SCHEDULED_ARRIVAL</th>\n",
              "      <th>DEPARTURE_TIME</th>\n",
              "      <th>ARRIVAL_TIME</th>\n",
              "      <th>DEPARTURE_DELAY</th>\n",
              "      <th>ARRIVAL_DELAY</th>\n",
              "    </tr>\n",
              "  </thead>\n",
              "  <tbody>\n",
              "    <tr>\n",
              "      <th>0</th>\n",
              "      <td>2015-01-01 00:05:00</td>\n",
              "      <td>04:30:00</td>\n",
              "      <td>23:54:00</td>\n",
              "      <td>04:08:00</td>\n",
              "      <td>-11.0</td>\n",
              "      <td>-22.0</td>\n",
              "    </tr>\n",
              "    <tr>\n",
              "      <th>1</th>\n",
              "      <td>2015-01-01 00:10:00</td>\n",
              "      <td>07:50:00</td>\n",
              "      <td>00:02:00</td>\n",
              "      <td>07:41:00</td>\n",
              "      <td>-8.0</td>\n",
              "      <td>-9.0</td>\n",
              "    </tr>\n",
              "    <tr>\n",
              "      <th>2</th>\n",
              "      <td>2015-01-01 00:20:00</td>\n",
              "      <td>08:06:00</td>\n",
              "      <td>00:18:00</td>\n",
              "      <td>08:11:00</td>\n",
              "      <td>-2.0</td>\n",
              "      <td>5.0</td>\n",
              "    </tr>\n",
              "    <tr>\n",
              "      <th>3</th>\n",
              "      <td>2015-01-01 00:20:00</td>\n",
              "      <td>08:05:00</td>\n",
              "      <td>00:15:00</td>\n",
              "      <td>07:56:00</td>\n",
              "      <td>-5.0</td>\n",
              "      <td>-9.0</td>\n",
              "    </tr>\n",
              "    <tr>\n",
              "      <th>4</th>\n",
              "      <td>2015-01-01 00:25:00</td>\n",
              "      <td>03:20:00</td>\n",
              "      <td>00:24:00</td>\n",
              "      <td>02:59:00</td>\n",
              "      <td>-1.0</td>\n",
              "      <td>-21.0</td>\n",
              "    </tr>\n",
              "    <tr>\n",
              "      <th>5</th>\n",
              "      <td>2015-01-01 00:25:00</td>\n",
              "      <td>06:02:00</td>\n",
              "      <td>00:20:00</td>\n",
              "      <td>06:10:00</td>\n",
              "      <td>-5.0</td>\n",
              "      <td>8.0</td>\n",
              "    </tr>\n",
              "  </tbody>\n",
              "</table>\n",
              "</div>"
            ],
            "text/plain": [
              "  SCHEDULED_DEPARTURE SCHEDULED_ARRIVAL  ... DEPARTURE_DELAY ARRIVAL_DELAY\n",
              "0 2015-01-01 00:05:00          04:30:00  ...           -11.0         -22.0\n",
              "1 2015-01-01 00:10:00          07:50:00  ...            -8.0          -9.0\n",
              "2 2015-01-01 00:20:00          08:06:00  ...            -2.0           5.0\n",
              "3 2015-01-01 00:20:00          08:05:00  ...            -5.0          -9.0\n",
              "4 2015-01-01 00:25:00          03:20:00  ...            -1.0         -21.0\n",
              "5 2015-01-01 00:25:00          06:02:00  ...            -5.0           8.0\n",
              "\n",
              "[6 rows x 6 columns]"
            ]
          },
          "metadata": {
            "tags": []
          },
          "execution_count": 8
        }
      ]
    },
    {
      "cell_type": "markdown",
      "metadata": {
        "id": "Rcaq31Wwu4bd"
      },
      "source": [
        "finding the shape of the dataframe"
      ]
    },
    {
      "cell_type": "code",
      "metadata": {
        "id": "HL-CKlm8IaUt",
        "colab": {
          "base_uri": "https://localhost:8080/",
          "height": 34
        },
        "outputId": "d6b77ba8-6862-469b-eed0-3259813d9808"
      },
      "source": [
        "df.shape"
      ],
      "execution_count": null,
      "outputs": [
        {
          "output_type": "execute_result",
          "data": {
            "text/plain": [
              "(5819079, 32)"
            ]
          },
          "metadata": {
            "tags": []
          },
          "execution_count": 9
        }
      ]
    },
    {
      "cell_type": "code",
      "metadata": {
        "id": "X1M_-wsNIbEa",
        "colab": {
          "base_uri": "https://localhost:8080/",
          "height": 34
        },
        "outputId": "d4cce8a1-6371-4da6-d77f-f8238a2f308c"
      },
      "source": [
        "#checking if missing data is present\n",
        "df.isnull().values.any()"
      ],
      "execution_count": null,
      "outputs": [
        {
          "output_type": "execute_result",
          "data": {
            "text/plain": [
              "True"
            ]
          },
          "metadata": {
            "tags": []
          },
          "execution_count": 10
        }
      ]
    },
    {
      "cell_type": "code",
      "metadata": {
        "id": "e-Hc6Q2LIeHs",
        "colab": {
          "base_uri": "https://localhost:8080/",
          "height": 578
        },
        "outputId": "fd8732f5-b168-4d12-8014-146d67bf41f6"
      },
      "source": [
        "#checking where the missing data is present \n",
        "df.isnull().sum()\n"
      ],
      "execution_count": null,
      "outputs": [
        {
          "output_type": "execute_result",
          "data": {
            "text/plain": [
              "YEAR                         0\n",
              "MONTH                        0\n",
              "DAY                          0\n",
              "DAY_OF_WEEK                  0\n",
              "AIRLINE                      0\n",
              "FLIGHT_NUMBER                0\n",
              "TAIL_NUMBER              14721\n",
              "ORIGIN_AIRPORT               0\n",
              "DESTINATION_AIRPORT          0\n",
              "SCHEDULED_DEPARTURE          0\n",
              "DEPARTURE_TIME           86153\n",
              "DEPARTURE_DELAY          86153\n",
              "TAXI_OUT                 89047\n",
              "WHEELS_OFF               89047\n",
              "SCHEDULED_TIME               6\n",
              "ELAPSED_TIME            105071\n",
              "AIR_TIME                105071\n",
              "DISTANCE                     0\n",
              "WHEELS_ON                92513\n",
              "TAXI_IN                  92513\n",
              "SCHEDULED_ARRIVAL            0\n",
              "ARRIVAL_TIME             92513\n",
              "ARRIVAL_DELAY           105071\n",
              "DIVERTED                     0\n",
              "CANCELLED                    0\n",
              "CANCELLATION_REASON    5729195\n",
              "AIR_SYSTEM_DELAY       4755640\n",
              "SECURITY_DELAY         4755640\n",
              "AIRLINE_DELAY          4755640\n",
              "LATE_AIRCRAFT_DELAY    4755640\n",
              "WEATHER_DELAY          4755640\n",
              "DATE                         0\n",
              "dtype: int64"
            ]
          },
          "metadata": {
            "tags": []
          },
          "execution_count": 11
        }
      ]
    },
    {
      "cell_type": "code",
      "metadata": {
        "id": "je4DVEhdIhE-",
        "colab": {
          "base_uri": "https://localhost:8080/",
          "height": 289
        },
        "outputId": "a3c98558-152a-49de-f3ff-cefc4bdd132f"
      },
      "source": [
        "#here we are reducing the columns ( which acc to me will help in the flight delay prediction)\n",
        "df = df[['AIRLINE','FLIGHT_NUMBER','ORIGIN_AIRPORT','DESTINATION_AIRPORT','SCHEDULED_DEPARTURE','DEPARTURE_TIME','DEPARTURE_DELAY','SCHEDULED_TIME','ELAPSED_TIME','AIR_TIME','SCHEDULED_ARRIVAL','ARRIVAL_TIME','ARRIVAL_DELAY', 'TAXI_OUT', 'TAXI_IN']]\n",
        "df.isnull().sum()"
      ],
      "execution_count": null,
      "outputs": [
        {
          "output_type": "execute_result",
          "data": {
            "text/plain": [
              "AIRLINE                     0\n",
              "FLIGHT_NUMBER               0\n",
              "ORIGIN_AIRPORT              0\n",
              "DESTINATION_AIRPORT         0\n",
              "SCHEDULED_DEPARTURE         0\n",
              "DEPARTURE_TIME          86153\n",
              "DEPARTURE_DELAY         86153\n",
              "SCHEDULED_TIME              6\n",
              "ELAPSED_TIME           105071\n",
              "AIR_TIME               105071\n",
              "SCHEDULED_ARRIVAL           0\n",
              "ARRIVAL_TIME            92513\n",
              "ARRIVAL_DELAY          105071\n",
              "TAXI_OUT                89047\n",
              "TAXI_IN                 92513\n",
              "dtype: int64"
            ]
          },
          "metadata": {
            "tags": []
          },
          "execution_count": 12
        }
      ]
    },
    {
      "cell_type": "code",
      "metadata": {
        "id": "2OCUhl_CIk6a",
        "colab": {
          "base_uri": "https://localhost:8080/",
          "height": 439
        },
        "outputId": "922f0956-d9d0-4357-9d16-e40a491d6948"
      },
      "source": [
        "df[df.isnull().values.any(axis=1)]"
      ],
      "execution_count": null,
      "outputs": [
        {
          "output_type": "execute_result",
          "data": {
            "text/html": [
              "<div>\n",
              "<style scoped>\n",
              "    .dataframe tbody tr th:only-of-type {\n",
              "        vertical-align: middle;\n",
              "    }\n",
              "\n",
              "    .dataframe tbody tr th {\n",
              "        vertical-align: top;\n",
              "    }\n",
              "\n",
              "    .dataframe thead th {\n",
              "        text-align: right;\n",
              "    }\n",
              "</style>\n",
              "<table border=\"1\" class=\"dataframe\">\n",
              "  <thead>\n",
              "    <tr style=\"text-align: right;\">\n",
              "      <th></th>\n",
              "      <th>AIRLINE</th>\n",
              "      <th>FLIGHT_NUMBER</th>\n",
              "      <th>ORIGIN_AIRPORT</th>\n",
              "      <th>DESTINATION_AIRPORT</th>\n",
              "      <th>SCHEDULED_DEPARTURE</th>\n",
              "      <th>DEPARTURE_TIME</th>\n",
              "      <th>DEPARTURE_DELAY</th>\n",
              "      <th>SCHEDULED_TIME</th>\n",
              "      <th>ELAPSED_TIME</th>\n",
              "      <th>AIR_TIME</th>\n",
              "      <th>SCHEDULED_ARRIVAL</th>\n",
              "      <th>ARRIVAL_TIME</th>\n",
              "      <th>ARRIVAL_DELAY</th>\n",
              "      <th>TAXI_OUT</th>\n",
              "      <th>TAXI_IN</th>\n",
              "    </tr>\n",
              "  </thead>\n",
              "  <tbody>\n",
              "    <tr>\n",
              "      <th>32</th>\n",
              "      <td>AS</td>\n",
              "      <td>136</td>\n",
              "      <td>ANC</td>\n",
              "      <td>SEA</td>\n",
              "      <td>2015-01-01 01:35:00</td>\n",
              "      <td>NaN</td>\n",
              "      <td>NaN</td>\n",
              "      <td>205.0</td>\n",
              "      <td>NaN</td>\n",
              "      <td>NaN</td>\n",
              "      <td>06:00:00</td>\n",
              "      <td>NaN</td>\n",
              "      <td>NaN</td>\n",
              "      <td>NaN</td>\n",
              "      <td>NaN</td>\n",
              "    </tr>\n",
              "    <tr>\n",
              "      <th>42</th>\n",
              "      <td>AA</td>\n",
              "      <td>2459</td>\n",
              "      <td>PHX</td>\n",
              "      <td>DFW</td>\n",
              "      <td>2015-01-01 02:00:00</td>\n",
              "      <td>NaN</td>\n",
              "      <td>NaN</td>\n",
              "      <td>120.0</td>\n",
              "      <td>NaN</td>\n",
              "      <td>NaN</td>\n",
              "      <td>05:00:00</td>\n",
              "      <td>NaN</td>\n",
              "      <td>NaN</td>\n",
              "      <td>NaN</td>\n",
              "      <td>NaN</td>\n",
              "    </tr>\n",
              "    <tr>\n",
              "      <th>68</th>\n",
              "      <td>OO</td>\n",
              "      <td>5254</td>\n",
              "      <td>MAF</td>\n",
              "      <td>IAH</td>\n",
              "      <td>2015-01-01 05:10:00</td>\n",
              "      <td>NaN</td>\n",
              "      <td>NaN</td>\n",
              "      <td>87.0</td>\n",
              "      <td>NaN</td>\n",
              "      <td>NaN</td>\n",
              "      <td>06:37:00</td>\n",
              "      <td>NaN</td>\n",
              "      <td>NaN</td>\n",
              "      <td>NaN</td>\n",
              "      <td>NaN</td>\n",
              "    </tr>\n",
              "    <tr>\n",
              "      <th>82</th>\n",
              "      <td>MQ</td>\n",
              "      <td>2859</td>\n",
              "      <td>SGF</td>\n",
              "      <td>DFW</td>\n",
              "      <td>2015-01-01 05:25:00</td>\n",
              "      <td>NaN</td>\n",
              "      <td>NaN</td>\n",
              "      <td>95.0</td>\n",
              "      <td>NaN</td>\n",
              "      <td>NaN</td>\n",
              "      <td>07:00:00</td>\n",
              "      <td>NaN</td>\n",
              "      <td>NaN</td>\n",
              "      <td>NaN</td>\n",
              "      <td>NaN</td>\n",
              "    </tr>\n",
              "    <tr>\n",
              "      <th>90</th>\n",
              "      <td>OO</td>\n",
              "      <td>5460</td>\n",
              "      <td>RDD</td>\n",
              "      <td>SFO</td>\n",
              "      <td>2015-01-01 05:30:00</td>\n",
              "      <td>NaN</td>\n",
              "      <td>NaN</td>\n",
              "      <td>90.0</td>\n",
              "      <td>NaN</td>\n",
              "      <td>NaN</td>\n",
              "      <td>07:00:00</td>\n",
              "      <td>NaN</td>\n",
              "      <td>NaN</td>\n",
              "      <td>NaN</td>\n",
              "      <td>NaN</td>\n",
              "    </tr>\n",
              "    <tr>\n",
              "      <th>...</th>\n",
              "      <td>...</td>\n",
              "      <td>...</td>\n",
              "      <td>...</td>\n",
              "      <td>...</td>\n",
              "      <td>...</td>\n",
              "      <td>...</td>\n",
              "      <td>...</td>\n",
              "      <td>...</td>\n",
              "      <td>...</td>\n",
              "      <td>...</td>\n",
              "      <td>...</td>\n",
              "      <td>...</td>\n",
              "      <td>...</td>\n",
              "      <td>...</td>\n",
              "      <td>...</td>\n",
              "    </tr>\n",
              "    <tr>\n",
              "      <th>5818157</th>\n",
              "      <td>UA</td>\n",
              "      <td>222</td>\n",
              "      <td>SFO</td>\n",
              "      <td>LAX</td>\n",
              "      <td>2015-12-31 20:00:00</td>\n",
              "      <td>NaN</td>\n",
              "      <td>NaN</td>\n",
              "      <td>96.0</td>\n",
              "      <td>NaN</td>\n",
              "      <td>NaN</td>\n",
              "      <td>21:36:00</td>\n",
              "      <td>NaN</td>\n",
              "      <td>NaN</td>\n",
              "      <td>NaN</td>\n",
              "      <td>NaN</td>\n",
              "    </tr>\n",
              "    <tr>\n",
              "      <th>5818160</th>\n",
              "      <td>WN</td>\n",
              "      <td>5296</td>\n",
              "      <td>MDW</td>\n",
              "      <td>ABQ</td>\n",
              "      <td>2015-12-31 20:00:00</td>\n",
              "      <td>20:13:00</td>\n",
              "      <td>13.0</td>\n",
              "      <td>195.0</td>\n",
              "      <td>NaN</td>\n",
              "      <td>NaN</td>\n",
              "      <td>22:15:00</td>\n",
              "      <td>23:25:00</td>\n",
              "      <td>NaN</td>\n",
              "      <td>10.0</td>\n",
              "      <td>6.0</td>\n",
              "    </tr>\n",
              "    <tr>\n",
              "      <th>5818318</th>\n",
              "      <td>AA</td>\n",
              "      <td>2245</td>\n",
              "      <td>MIA</td>\n",
              "      <td>SAN</td>\n",
              "      <td>2015-12-31 20:19:00</td>\n",
              "      <td>NaN</td>\n",
              "      <td>NaN</td>\n",
              "      <td>337.0</td>\n",
              "      <td>NaN</td>\n",
              "      <td>NaN</td>\n",
              "      <td>22:56:00</td>\n",
              "      <td>NaN</td>\n",
              "      <td>NaN</td>\n",
              "      <td>NaN</td>\n",
              "      <td>NaN</td>\n",
              "    </tr>\n",
              "    <tr>\n",
              "      <th>5818777</th>\n",
              "      <td>NK</td>\n",
              "      <td>416</td>\n",
              "      <td>FLL</td>\n",
              "      <td>IAG</td>\n",
              "      <td>2015-12-31 21:55:00</td>\n",
              "      <td>NaN</td>\n",
              "      <td>NaN</td>\n",
              "      <td>175.0</td>\n",
              "      <td>NaN</td>\n",
              "      <td>NaN</td>\n",
              "      <td>00:50:00</td>\n",
              "      <td>NaN</td>\n",
              "      <td>NaN</td>\n",
              "      <td>NaN</td>\n",
              "      <td>NaN</td>\n",
              "    </tr>\n",
              "    <tr>\n",
              "      <th>5818843</th>\n",
              "      <td>AA</td>\n",
              "      <td>1042</td>\n",
              "      <td>SAN</td>\n",
              "      <td>MIA</td>\n",
              "      <td>2015-12-31 22:10:00</td>\n",
              "      <td>NaN</td>\n",
              "      <td>NaN</td>\n",
              "      <td>277.0</td>\n",
              "      <td>NaN</td>\n",
              "      <td>NaN</td>\n",
              "      <td>05:47:00</td>\n",
              "      <td>NaN</td>\n",
              "      <td>NaN</td>\n",
              "      <td>NaN</td>\n",
              "      <td>NaN</td>\n",
              "    </tr>\n",
              "  </tbody>\n",
              "</table>\n",
              "<p>105071 rows × 15 columns</p>\n",
              "</div>"
            ],
            "text/plain": [
              "        AIRLINE  FLIGHT_NUMBER ORIGIN_AIRPORT  ... ARRIVAL_DELAY TAXI_OUT TAXI_IN\n",
              "32           AS            136            ANC  ...           NaN      NaN     NaN\n",
              "42           AA           2459            PHX  ...           NaN      NaN     NaN\n",
              "68           OO           5254            MAF  ...           NaN      NaN     NaN\n",
              "82           MQ           2859            SGF  ...           NaN      NaN     NaN\n",
              "90           OO           5460            RDD  ...           NaN      NaN     NaN\n",
              "...         ...            ...            ...  ...           ...      ...     ...\n",
              "5818157      UA            222            SFO  ...           NaN      NaN     NaN\n",
              "5818160      WN           5296            MDW  ...           NaN     10.0     6.0\n",
              "5818318      AA           2245            MIA  ...           NaN      NaN     NaN\n",
              "5818777      NK            416            FLL  ...           NaN      NaN     NaN\n",
              "5818843      AA           1042            SAN  ...           NaN      NaN     NaN\n",
              "\n",
              "[105071 rows x 15 columns]"
            ]
          },
          "metadata": {
            "tags": []
          },
          "execution_count": 13
        }
      ]
    },
    {
      "cell_type": "code",
      "metadata": {
        "id": "2AI2CY-jIpkV",
        "colab": {
          "base_uri": "https://localhost:8080/",
          "height": 524
        },
        "outputId": "562c6910-a8ec-4ec8-bd77-522a66fbd67d"
      },
      "source": [
        "#dropping rows containing NANs \n",
        "df.dropna(axis = 0, inplace = True)\n",
        "df"
      ],
      "execution_count": null,
      "outputs": [
        {
          "output_type": "stream",
          "text": [
            "/usr/local/lib/python3.6/dist-packages/ipykernel_launcher.py:2: SettingWithCopyWarning: \n",
            "A value is trying to be set on a copy of a slice from a DataFrame\n",
            "\n",
            "See the caveats in the documentation: https://pandas.pydata.org/pandas-docs/stable/user_guide/indexing.html#returning-a-view-versus-a-copy\n",
            "  \n"
          ],
          "name": "stderr"
        },
        {
          "output_type": "execute_result",
          "data": {
            "text/html": [
              "<div>\n",
              "<style scoped>\n",
              "    .dataframe tbody tr th:only-of-type {\n",
              "        vertical-align: middle;\n",
              "    }\n",
              "\n",
              "    .dataframe tbody tr th {\n",
              "        vertical-align: top;\n",
              "    }\n",
              "\n",
              "    .dataframe thead th {\n",
              "        text-align: right;\n",
              "    }\n",
              "</style>\n",
              "<table border=\"1\" class=\"dataframe\">\n",
              "  <thead>\n",
              "    <tr style=\"text-align: right;\">\n",
              "      <th></th>\n",
              "      <th>AIRLINE</th>\n",
              "      <th>FLIGHT_NUMBER</th>\n",
              "      <th>ORIGIN_AIRPORT</th>\n",
              "      <th>DESTINATION_AIRPORT</th>\n",
              "      <th>SCHEDULED_DEPARTURE</th>\n",
              "      <th>DEPARTURE_TIME</th>\n",
              "      <th>DEPARTURE_DELAY</th>\n",
              "      <th>SCHEDULED_TIME</th>\n",
              "      <th>ELAPSED_TIME</th>\n",
              "      <th>AIR_TIME</th>\n",
              "      <th>SCHEDULED_ARRIVAL</th>\n",
              "      <th>ARRIVAL_TIME</th>\n",
              "      <th>ARRIVAL_DELAY</th>\n",
              "      <th>TAXI_OUT</th>\n",
              "      <th>TAXI_IN</th>\n",
              "    </tr>\n",
              "  </thead>\n",
              "  <tbody>\n",
              "    <tr>\n",
              "      <th>0</th>\n",
              "      <td>AS</td>\n",
              "      <td>98</td>\n",
              "      <td>ANC</td>\n",
              "      <td>SEA</td>\n",
              "      <td>2015-01-01 00:05:00</td>\n",
              "      <td>23:54:00</td>\n",
              "      <td>-11.0</td>\n",
              "      <td>205.0</td>\n",
              "      <td>194.0</td>\n",
              "      <td>169.0</td>\n",
              "      <td>04:30:00</td>\n",
              "      <td>04:08:00</td>\n",
              "      <td>-22.0</td>\n",
              "      <td>21.0</td>\n",
              "      <td>4.0</td>\n",
              "    </tr>\n",
              "    <tr>\n",
              "      <th>1</th>\n",
              "      <td>AA</td>\n",
              "      <td>2336</td>\n",
              "      <td>LAX</td>\n",
              "      <td>PBI</td>\n",
              "      <td>2015-01-01 00:10:00</td>\n",
              "      <td>00:02:00</td>\n",
              "      <td>-8.0</td>\n",
              "      <td>280.0</td>\n",
              "      <td>279.0</td>\n",
              "      <td>263.0</td>\n",
              "      <td>07:50:00</td>\n",
              "      <td>07:41:00</td>\n",
              "      <td>-9.0</td>\n",
              "      <td>12.0</td>\n",
              "      <td>4.0</td>\n",
              "    </tr>\n",
              "    <tr>\n",
              "      <th>2</th>\n",
              "      <td>US</td>\n",
              "      <td>840</td>\n",
              "      <td>SFO</td>\n",
              "      <td>CLT</td>\n",
              "      <td>2015-01-01 00:20:00</td>\n",
              "      <td>00:18:00</td>\n",
              "      <td>-2.0</td>\n",
              "      <td>286.0</td>\n",
              "      <td>293.0</td>\n",
              "      <td>266.0</td>\n",
              "      <td>08:06:00</td>\n",
              "      <td>08:11:00</td>\n",
              "      <td>5.0</td>\n",
              "      <td>16.0</td>\n",
              "      <td>11.0</td>\n",
              "    </tr>\n",
              "    <tr>\n",
              "      <th>3</th>\n",
              "      <td>AA</td>\n",
              "      <td>258</td>\n",
              "      <td>LAX</td>\n",
              "      <td>MIA</td>\n",
              "      <td>2015-01-01 00:20:00</td>\n",
              "      <td>00:15:00</td>\n",
              "      <td>-5.0</td>\n",
              "      <td>285.0</td>\n",
              "      <td>281.0</td>\n",
              "      <td>258.0</td>\n",
              "      <td>08:05:00</td>\n",
              "      <td>07:56:00</td>\n",
              "      <td>-9.0</td>\n",
              "      <td>15.0</td>\n",
              "      <td>8.0</td>\n",
              "    </tr>\n",
              "    <tr>\n",
              "      <th>4</th>\n",
              "      <td>AS</td>\n",
              "      <td>135</td>\n",
              "      <td>SEA</td>\n",
              "      <td>ANC</td>\n",
              "      <td>2015-01-01 00:25:00</td>\n",
              "      <td>00:24:00</td>\n",
              "      <td>-1.0</td>\n",
              "      <td>235.0</td>\n",
              "      <td>215.0</td>\n",
              "      <td>199.0</td>\n",
              "      <td>03:20:00</td>\n",
              "      <td>02:59:00</td>\n",
              "      <td>-21.0</td>\n",
              "      <td>11.0</td>\n",
              "      <td>5.0</td>\n",
              "    </tr>\n",
              "    <tr>\n",
              "      <th>...</th>\n",
              "      <td>...</td>\n",
              "      <td>...</td>\n",
              "      <td>...</td>\n",
              "      <td>...</td>\n",
              "      <td>...</td>\n",
              "      <td>...</td>\n",
              "      <td>...</td>\n",
              "      <td>...</td>\n",
              "      <td>...</td>\n",
              "      <td>...</td>\n",
              "      <td>...</td>\n",
              "      <td>...</td>\n",
              "      <td>...</td>\n",
              "      <td>...</td>\n",
              "      <td>...</td>\n",
              "    </tr>\n",
              "    <tr>\n",
              "      <th>5819074</th>\n",
              "      <td>B6</td>\n",
              "      <td>688</td>\n",
              "      <td>LAX</td>\n",
              "      <td>BOS</td>\n",
              "      <td>2015-12-31 23:59:00</td>\n",
              "      <td>23:55:00</td>\n",
              "      <td>-4.0</td>\n",
              "      <td>320.0</td>\n",
              "      <td>298.0</td>\n",
              "      <td>272.0</td>\n",
              "      <td>08:19:00</td>\n",
              "      <td>07:53:00</td>\n",
              "      <td>-26.0</td>\n",
              "      <td>22.0</td>\n",
              "      <td>4.0</td>\n",
              "    </tr>\n",
              "    <tr>\n",
              "      <th>5819075</th>\n",
              "      <td>B6</td>\n",
              "      <td>745</td>\n",
              "      <td>JFK</td>\n",
              "      <td>PSE</td>\n",
              "      <td>2015-12-31 23:59:00</td>\n",
              "      <td>23:55:00</td>\n",
              "      <td>-4.0</td>\n",
              "      <td>227.0</td>\n",
              "      <td>215.0</td>\n",
              "      <td>195.0</td>\n",
              "      <td>04:46:00</td>\n",
              "      <td>04:30:00</td>\n",
              "      <td>-16.0</td>\n",
              "      <td>17.0</td>\n",
              "      <td>3.0</td>\n",
              "    </tr>\n",
              "    <tr>\n",
              "      <th>5819076</th>\n",
              "      <td>B6</td>\n",
              "      <td>1503</td>\n",
              "      <td>JFK</td>\n",
              "      <td>SJU</td>\n",
              "      <td>2015-12-31 23:59:00</td>\n",
              "      <td>23:50:00</td>\n",
              "      <td>-9.0</td>\n",
              "      <td>221.0</td>\n",
              "      <td>222.0</td>\n",
              "      <td>197.0</td>\n",
              "      <td>04:40:00</td>\n",
              "      <td>04:32:00</td>\n",
              "      <td>-8.0</td>\n",
              "      <td>17.0</td>\n",
              "      <td>8.0</td>\n",
              "    </tr>\n",
              "    <tr>\n",
              "      <th>5819077</th>\n",
              "      <td>B6</td>\n",
              "      <td>333</td>\n",
              "      <td>MCO</td>\n",
              "      <td>SJU</td>\n",
              "      <td>2015-12-31 23:59:00</td>\n",
              "      <td>23:53:00</td>\n",
              "      <td>-6.0</td>\n",
              "      <td>161.0</td>\n",
              "      <td>157.0</td>\n",
              "      <td>144.0</td>\n",
              "      <td>03:40:00</td>\n",
              "      <td>03:30:00</td>\n",
              "      <td>-10.0</td>\n",
              "      <td>10.0</td>\n",
              "      <td>3.0</td>\n",
              "    </tr>\n",
              "    <tr>\n",
              "      <th>5819078</th>\n",
              "      <td>B6</td>\n",
              "      <td>839</td>\n",
              "      <td>JFK</td>\n",
              "      <td>BQN</td>\n",
              "      <td>2015-12-31 23:59:00</td>\n",
              "      <td>00:14:00</td>\n",
              "      <td>15.0</td>\n",
              "      <td>221.0</td>\n",
              "      <td>208.0</td>\n",
              "      <td>189.0</td>\n",
              "      <td>04:40:00</td>\n",
              "      <td>04:42:00</td>\n",
              "      <td>2.0</td>\n",
              "      <td>14.0</td>\n",
              "      <td>5.0</td>\n",
              "    </tr>\n",
              "  </tbody>\n",
              "</table>\n",
              "<p>5714008 rows × 15 columns</p>\n",
              "</div>"
            ],
            "text/plain": [
              "        AIRLINE  FLIGHT_NUMBER ORIGIN_AIRPORT  ... ARRIVAL_DELAY TAXI_OUT TAXI_IN\n",
              "0            AS             98            ANC  ...         -22.0     21.0     4.0\n",
              "1            AA           2336            LAX  ...          -9.0     12.0     4.0\n",
              "2            US            840            SFO  ...           5.0     16.0    11.0\n",
              "3            AA            258            LAX  ...          -9.0     15.0     8.0\n",
              "4            AS            135            SEA  ...         -21.0     11.0     5.0\n",
              "...         ...            ...            ...  ...           ...      ...     ...\n",
              "5819074      B6            688            LAX  ...         -26.0     22.0     4.0\n",
              "5819075      B6            745            JFK  ...         -16.0     17.0     3.0\n",
              "5819076      B6           1503            JFK  ...          -8.0     17.0     8.0\n",
              "5819077      B6            333            MCO  ...         -10.0     10.0     3.0\n",
              "5819078      B6            839            JFK  ...           2.0     14.0     5.0\n",
              "\n",
              "[5714008 rows x 15 columns]"
            ]
          },
          "metadata": {
            "tags": []
          },
          "execution_count": 14
        }
      ]
    },
    {
      "cell_type": "code",
      "metadata": {
        "id": "Ye3uA9sfIqO4",
        "colab": {
          "base_uri": "https://localhost:8080/",
          "height": 34
        },
        "outputId": "3c762baf-cf26-436e-cb91-0d1c1e92b281"
      },
      "source": [
        "# We see the size has been reduced \n",
        "df.shape"
      ],
      "execution_count": null,
      "outputs": [
        {
          "output_type": "execute_result",
          "data": {
            "text/plain": [
              "(5714008, 15)"
            ]
          },
          "metadata": {
            "tags": []
          },
          "execution_count": 15
        }
      ]
    },
    {
      "cell_type": "code",
      "metadata": {
        "id": "VPupStvmIsz-",
        "colab": {
          "base_uri": "https://localhost:8080/",
          "height": 297
        },
        "outputId": "095101d7-fe66-4c7b-d47a-daaad5db4308"
      },
      "source": [
        "df.describe()"
      ],
      "execution_count": null,
      "outputs": [
        {
          "output_type": "execute_result",
          "data": {
            "text/html": [
              "<div>\n",
              "<style scoped>\n",
              "    .dataframe tbody tr th:only-of-type {\n",
              "        vertical-align: middle;\n",
              "    }\n",
              "\n",
              "    .dataframe tbody tr th {\n",
              "        vertical-align: top;\n",
              "    }\n",
              "\n",
              "    .dataframe thead th {\n",
              "        text-align: right;\n",
              "    }\n",
              "</style>\n",
              "<table border=\"1\" class=\"dataframe\">\n",
              "  <thead>\n",
              "    <tr style=\"text-align: right;\">\n",
              "      <th></th>\n",
              "      <th>FLIGHT_NUMBER</th>\n",
              "      <th>DEPARTURE_DELAY</th>\n",
              "      <th>SCHEDULED_TIME</th>\n",
              "      <th>ELAPSED_TIME</th>\n",
              "      <th>AIR_TIME</th>\n",
              "      <th>ARRIVAL_DELAY</th>\n",
              "      <th>TAXI_OUT</th>\n",
              "      <th>TAXI_IN</th>\n",
              "    </tr>\n",
              "  </thead>\n",
              "  <tbody>\n",
              "    <tr>\n",
              "      <th>count</th>\n",
              "      <td>5.714008e+06</td>\n",
              "      <td>5.714008e+06</td>\n",
              "      <td>5.714008e+06</td>\n",
              "      <td>5.714008e+06</td>\n",
              "      <td>5.714008e+06</td>\n",
              "      <td>5.714008e+06</td>\n",
              "      <td>5.714008e+06</td>\n",
              "      <td>5.714008e+06</td>\n",
              "    </tr>\n",
              "    <tr>\n",
              "      <th>mean</th>\n",
              "      <td>2.164384e+03</td>\n",
              "      <td>9.294842e+00</td>\n",
              "      <td>1.418940e+02</td>\n",
              "      <td>1.370062e+02</td>\n",
              "      <td>1.135116e+02</td>\n",
              "      <td>4.407057e+00</td>\n",
              "      <td>1.606550e+01</td>\n",
              "      <td>7.429063e+00</td>\n",
              "    </tr>\n",
              "    <tr>\n",
              "      <th>std</th>\n",
              "      <td>1.754706e+03</td>\n",
              "      <td>3.688972e+01</td>\n",
              "      <td>7.531400e+01</td>\n",
              "      <td>7.421107e+01</td>\n",
              "      <td>7.223082e+01</td>\n",
              "      <td>3.927130e+01</td>\n",
              "      <td>8.882449e+00</td>\n",
              "      <td>5.618951e+00</td>\n",
              "    </tr>\n",
              "    <tr>\n",
              "      <th>min</th>\n",
              "      <td>1.000000e+00</td>\n",
              "      <td>-8.200000e+01</td>\n",
              "      <td>1.800000e+01</td>\n",
              "      <td>1.400000e+01</td>\n",
              "      <td>7.000000e+00</td>\n",
              "      <td>-8.700000e+01</td>\n",
              "      <td>1.000000e+00</td>\n",
              "      <td>1.000000e+00</td>\n",
              "    </tr>\n",
              "    <tr>\n",
              "      <th>25%</th>\n",
              "      <td>7.280000e+02</td>\n",
              "      <td>-5.000000e+00</td>\n",
              "      <td>8.500000e+01</td>\n",
              "      <td>8.200000e+01</td>\n",
              "      <td>6.000000e+01</td>\n",
              "      <td>-1.300000e+01</td>\n",
              "      <td>1.100000e+01</td>\n",
              "      <td>4.000000e+00</td>\n",
              "    </tr>\n",
              "    <tr>\n",
              "      <th>50%</th>\n",
              "      <td>1.681000e+03</td>\n",
              "      <td>-2.000000e+00</td>\n",
              "      <td>1.230000e+02</td>\n",
              "      <td>1.180000e+02</td>\n",
              "      <td>9.400000e+01</td>\n",
              "      <td>-5.000000e+00</td>\n",
              "      <td>1.400000e+01</td>\n",
              "      <td>6.000000e+00</td>\n",
              "    </tr>\n",
              "    <tr>\n",
              "      <th>75%</th>\n",
              "      <td>3.211000e+03</td>\n",
              "      <td>7.000000e+00</td>\n",
              "      <td>1.740000e+02</td>\n",
              "      <td>1.680000e+02</td>\n",
              "      <td>1.440000e+02</td>\n",
              "      <td>8.000000e+00</td>\n",
              "      <td>1.900000e+01</td>\n",
              "      <td>9.000000e+00</td>\n",
              "    </tr>\n",
              "    <tr>\n",
              "      <th>max</th>\n",
              "      <td>9.320000e+03</td>\n",
              "      <td>1.988000e+03</td>\n",
              "      <td>7.180000e+02</td>\n",
              "      <td>7.660000e+02</td>\n",
              "      <td>6.900000e+02</td>\n",
              "      <td>1.971000e+03</td>\n",
              "      <td>2.250000e+02</td>\n",
              "      <td>2.480000e+02</td>\n",
              "    </tr>\n",
              "  </tbody>\n",
              "</table>\n",
              "</div>"
            ],
            "text/plain": [
              "       FLIGHT_NUMBER  DEPARTURE_DELAY  ...      TAXI_OUT       TAXI_IN\n",
              "count   5.714008e+06     5.714008e+06  ...  5.714008e+06  5.714008e+06\n",
              "mean    2.164384e+03     9.294842e+00  ...  1.606550e+01  7.429063e+00\n",
              "std     1.754706e+03     3.688972e+01  ...  8.882449e+00  5.618951e+00\n",
              "min     1.000000e+00    -8.200000e+01  ...  1.000000e+00  1.000000e+00\n",
              "25%     7.280000e+02    -5.000000e+00  ...  1.100000e+01  4.000000e+00\n",
              "50%     1.681000e+03    -2.000000e+00  ...  1.400000e+01  6.000000e+00\n",
              "75%     3.211000e+03     7.000000e+00  ...  1.900000e+01  9.000000e+00\n",
              "max     9.320000e+03     1.988000e+03  ...  2.250000e+02  2.480000e+02\n",
              "\n",
              "[8 rows x 8 columns]"
            ]
          },
          "metadata": {
            "tags": []
          },
          "execution_count": 16
        }
      ]
    },
    {
      "cell_type": "code",
      "metadata": {
        "id": "5KoMzptmIu1m",
        "colab": {
          "base_uri": "https://localhost:8080/",
          "height": 379
        },
        "outputId": "7be25cb1-d2df-4235-c5a8-b0f5fce88998"
      },
      "source": [
        "df.head(10)"
      ],
      "execution_count": null,
      "outputs": [
        {
          "output_type": "execute_result",
          "data": {
            "text/html": [
              "<div>\n",
              "<style scoped>\n",
              "    .dataframe tbody tr th:only-of-type {\n",
              "        vertical-align: middle;\n",
              "    }\n",
              "\n",
              "    .dataframe tbody tr th {\n",
              "        vertical-align: top;\n",
              "    }\n",
              "\n",
              "    .dataframe thead th {\n",
              "        text-align: right;\n",
              "    }\n",
              "</style>\n",
              "<table border=\"1\" class=\"dataframe\">\n",
              "  <thead>\n",
              "    <tr style=\"text-align: right;\">\n",
              "      <th></th>\n",
              "      <th>AIRLINE</th>\n",
              "      <th>FLIGHT_NUMBER</th>\n",
              "      <th>ORIGIN_AIRPORT</th>\n",
              "      <th>DESTINATION_AIRPORT</th>\n",
              "      <th>SCHEDULED_DEPARTURE</th>\n",
              "      <th>DEPARTURE_TIME</th>\n",
              "      <th>DEPARTURE_DELAY</th>\n",
              "      <th>SCHEDULED_TIME</th>\n",
              "      <th>ELAPSED_TIME</th>\n",
              "      <th>AIR_TIME</th>\n",
              "      <th>SCHEDULED_ARRIVAL</th>\n",
              "      <th>ARRIVAL_TIME</th>\n",
              "      <th>ARRIVAL_DELAY</th>\n",
              "      <th>TAXI_OUT</th>\n",
              "      <th>TAXI_IN</th>\n",
              "    </tr>\n",
              "  </thead>\n",
              "  <tbody>\n",
              "    <tr>\n",
              "      <th>0</th>\n",
              "      <td>AS</td>\n",
              "      <td>98</td>\n",
              "      <td>ANC</td>\n",
              "      <td>SEA</td>\n",
              "      <td>2015-01-01 00:05:00</td>\n",
              "      <td>23:54:00</td>\n",
              "      <td>-11.0</td>\n",
              "      <td>205.0</td>\n",
              "      <td>194.0</td>\n",
              "      <td>169.0</td>\n",
              "      <td>04:30:00</td>\n",
              "      <td>04:08:00</td>\n",
              "      <td>-22.0</td>\n",
              "      <td>21.0</td>\n",
              "      <td>4.0</td>\n",
              "    </tr>\n",
              "    <tr>\n",
              "      <th>1</th>\n",
              "      <td>AA</td>\n",
              "      <td>2336</td>\n",
              "      <td>LAX</td>\n",
              "      <td>PBI</td>\n",
              "      <td>2015-01-01 00:10:00</td>\n",
              "      <td>00:02:00</td>\n",
              "      <td>-8.0</td>\n",
              "      <td>280.0</td>\n",
              "      <td>279.0</td>\n",
              "      <td>263.0</td>\n",
              "      <td>07:50:00</td>\n",
              "      <td>07:41:00</td>\n",
              "      <td>-9.0</td>\n",
              "      <td>12.0</td>\n",
              "      <td>4.0</td>\n",
              "    </tr>\n",
              "    <tr>\n",
              "      <th>2</th>\n",
              "      <td>US</td>\n",
              "      <td>840</td>\n",
              "      <td>SFO</td>\n",
              "      <td>CLT</td>\n",
              "      <td>2015-01-01 00:20:00</td>\n",
              "      <td>00:18:00</td>\n",
              "      <td>-2.0</td>\n",
              "      <td>286.0</td>\n",
              "      <td>293.0</td>\n",
              "      <td>266.0</td>\n",
              "      <td>08:06:00</td>\n",
              "      <td>08:11:00</td>\n",
              "      <td>5.0</td>\n",
              "      <td>16.0</td>\n",
              "      <td>11.0</td>\n",
              "    </tr>\n",
              "    <tr>\n",
              "      <th>3</th>\n",
              "      <td>AA</td>\n",
              "      <td>258</td>\n",
              "      <td>LAX</td>\n",
              "      <td>MIA</td>\n",
              "      <td>2015-01-01 00:20:00</td>\n",
              "      <td>00:15:00</td>\n",
              "      <td>-5.0</td>\n",
              "      <td>285.0</td>\n",
              "      <td>281.0</td>\n",
              "      <td>258.0</td>\n",
              "      <td>08:05:00</td>\n",
              "      <td>07:56:00</td>\n",
              "      <td>-9.0</td>\n",
              "      <td>15.0</td>\n",
              "      <td>8.0</td>\n",
              "    </tr>\n",
              "    <tr>\n",
              "      <th>4</th>\n",
              "      <td>AS</td>\n",
              "      <td>135</td>\n",
              "      <td>SEA</td>\n",
              "      <td>ANC</td>\n",
              "      <td>2015-01-01 00:25:00</td>\n",
              "      <td>00:24:00</td>\n",
              "      <td>-1.0</td>\n",
              "      <td>235.0</td>\n",
              "      <td>215.0</td>\n",
              "      <td>199.0</td>\n",
              "      <td>03:20:00</td>\n",
              "      <td>02:59:00</td>\n",
              "      <td>-21.0</td>\n",
              "      <td>11.0</td>\n",
              "      <td>5.0</td>\n",
              "    </tr>\n",
              "    <tr>\n",
              "      <th>5</th>\n",
              "      <td>DL</td>\n",
              "      <td>806</td>\n",
              "      <td>SFO</td>\n",
              "      <td>MSP</td>\n",
              "      <td>2015-01-01 00:25:00</td>\n",
              "      <td>00:20:00</td>\n",
              "      <td>-5.0</td>\n",
              "      <td>217.0</td>\n",
              "      <td>230.0</td>\n",
              "      <td>206.0</td>\n",
              "      <td>06:02:00</td>\n",
              "      <td>06:10:00</td>\n",
              "      <td>8.0</td>\n",
              "      <td>18.0</td>\n",
              "      <td>6.0</td>\n",
              "    </tr>\n",
              "    <tr>\n",
              "      <th>6</th>\n",
              "      <td>NK</td>\n",
              "      <td>612</td>\n",
              "      <td>LAS</td>\n",
              "      <td>MSP</td>\n",
              "      <td>2015-01-01 00:25:00</td>\n",
              "      <td>00:19:00</td>\n",
              "      <td>-6.0</td>\n",
              "      <td>181.0</td>\n",
              "      <td>170.0</td>\n",
              "      <td>154.0</td>\n",
              "      <td>05:26:00</td>\n",
              "      <td>05:09:00</td>\n",
              "      <td>-17.0</td>\n",
              "      <td>11.0</td>\n",
              "      <td>5.0</td>\n",
              "    </tr>\n",
              "    <tr>\n",
              "      <th>7</th>\n",
              "      <td>US</td>\n",
              "      <td>2013</td>\n",
              "      <td>LAX</td>\n",
              "      <td>CLT</td>\n",
              "      <td>2015-01-01 00:30:00</td>\n",
              "      <td>00:44:00</td>\n",
              "      <td>14.0</td>\n",
              "      <td>273.0</td>\n",
              "      <td>249.0</td>\n",
              "      <td>228.0</td>\n",
              "      <td>08:03:00</td>\n",
              "      <td>07:53:00</td>\n",
              "      <td>-10.0</td>\n",
              "      <td>13.0</td>\n",
              "      <td>8.0</td>\n",
              "    </tr>\n",
              "    <tr>\n",
              "      <th>8</th>\n",
              "      <td>AA</td>\n",
              "      <td>1112</td>\n",
              "      <td>SFO</td>\n",
              "      <td>DFW</td>\n",
              "      <td>2015-01-01 00:30:00</td>\n",
              "      <td>00:19:00</td>\n",
              "      <td>-11.0</td>\n",
              "      <td>195.0</td>\n",
              "      <td>193.0</td>\n",
              "      <td>173.0</td>\n",
              "      <td>05:45:00</td>\n",
              "      <td>05:32:00</td>\n",
              "      <td>-13.0</td>\n",
              "      <td>17.0</td>\n",
              "      <td>3.0</td>\n",
              "    </tr>\n",
              "    <tr>\n",
              "      <th>9</th>\n",
              "      <td>DL</td>\n",
              "      <td>1173</td>\n",
              "      <td>LAS</td>\n",
              "      <td>ATL</td>\n",
              "      <td>2015-01-01 00:30:00</td>\n",
              "      <td>00:33:00</td>\n",
              "      <td>3.0</td>\n",
              "      <td>221.0</td>\n",
              "      <td>203.0</td>\n",
              "      <td>186.0</td>\n",
              "      <td>07:11:00</td>\n",
              "      <td>06:56:00</td>\n",
              "      <td>-15.0</td>\n",
              "      <td>12.0</td>\n",
              "      <td>5.0</td>\n",
              "    </tr>\n",
              "  </tbody>\n",
              "</table>\n",
              "</div>"
            ],
            "text/plain": [
              "  AIRLINE  FLIGHT_NUMBER ORIGIN_AIRPORT  ... ARRIVAL_DELAY TAXI_OUT TAXI_IN\n",
              "0      AS             98            ANC  ...         -22.0     21.0     4.0\n",
              "1      AA           2336            LAX  ...          -9.0     12.0     4.0\n",
              "2      US            840            SFO  ...           5.0     16.0    11.0\n",
              "3      AA            258            LAX  ...          -9.0     15.0     8.0\n",
              "4      AS            135            SEA  ...         -21.0     11.0     5.0\n",
              "5      DL            806            SFO  ...           8.0     18.0     6.0\n",
              "6      NK            612            LAS  ...         -17.0     11.0     5.0\n",
              "7      US           2013            LAX  ...         -10.0     13.0     8.0\n",
              "8      AA           1112            SFO  ...         -13.0     17.0     3.0\n",
              "9      DL           1173            LAS  ...         -15.0     12.0     5.0\n",
              "\n",
              "[10 rows x 15 columns]"
            ]
          },
          "metadata": {
            "tags": []
          },
          "execution_count": 17
        }
      ]
    },
    {
      "cell_type": "code",
      "metadata": {
        "id": "NkMgcN52IxM8",
        "colab": {
          "base_uri": "https://localhost:8080/",
          "height": 483
        },
        "outputId": "546ce2d7-3969-4c38-9fe2-66813e4e3217"
      },
      "source": [
        "airlines_names = pd.read_csv('airlines.csv')\n",
        "airlines_names"
      ],
      "execution_count": null,
      "outputs": [
        {
          "output_type": "execute_result",
          "data": {
            "text/html": [
              "<div>\n",
              "<style scoped>\n",
              "    .dataframe tbody tr th:only-of-type {\n",
              "        vertical-align: middle;\n",
              "    }\n",
              "\n",
              "    .dataframe tbody tr th {\n",
              "        vertical-align: top;\n",
              "    }\n",
              "\n",
              "    .dataframe thead th {\n",
              "        text-align: right;\n",
              "    }\n",
              "</style>\n",
              "<table border=\"1\" class=\"dataframe\">\n",
              "  <thead>\n",
              "    <tr style=\"text-align: right;\">\n",
              "      <th></th>\n",
              "      <th>IATA_CODE</th>\n",
              "      <th>AIRLINE</th>\n",
              "    </tr>\n",
              "  </thead>\n",
              "  <tbody>\n",
              "    <tr>\n",
              "      <th>0</th>\n",
              "      <td>UA</td>\n",
              "      <td>United Air Lines Inc.</td>\n",
              "    </tr>\n",
              "    <tr>\n",
              "      <th>1</th>\n",
              "      <td>AA</td>\n",
              "      <td>American Airlines Inc.</td>\n",
              "    </tr>\n",
              "    <tr>\n",
              "      <th>2</th>\n",
              "      <td>US</td>\n",
              "      <td>US Airways Inc.</td>\n",
              "    </tr>\n",
              "    <tr>\n",
              "      <th>3</th>\n",
              "      <td>F9</td>\n",
              "      <td>Frontier Airlines Inc.</td>\n",
              "    </tr>\n",
              "    <tr>\n",
              "      <th>4</th>\n",
              "      <td>B6</td>\n",
              "      <td>JetBlue Airways</td>\n",
              "    </tr>\n",
              "    <tr>\n",
              "      <th>5</th>\n",
              "      <td>OO</td>\n",
              "      <td>Skywest Airlines Inc.</td>\n",
              "    </tr>\n",
              "    <tr>\n",
              "      <th>6</th>\n",
              "      <td>AS</td>\n",
              "      <td>Alaska Airlines Inc.</td>\n",
              "    </tr>\n",
              "    <tr>\n",
              "      <th>7</th>\n",
              "      <td>NK</td>\n",
              "      <td>Spirit Air Lines</td>\n",
              "    </tr>\n",
              "    <tr>\n",
              "      <th>8</th>\n",
              "      <td>WN</td>\n",
              "      <td>Southwest Airlines Co.</td>\n",
              "    </tr>\n",
              "    <tr>\n",
              "      <th>9</th>\n",
              "      <td>DL</td>\n",
              "      <td>Delta Air Lines Inc.</td>\n",
              "    </tr>\n",
              "    <tr>\n",
              "      <th>10</th>\n",
              "      <td>EV</td>\n",
              "      <td>Atlantic Southeast Airlines</td>\n",
              "    </tr>\n",
              "    <tr>\n",
              "      <th>11</th>\n",
              "      <td>HA</td>\n",
              "      <td>Hawaiian Airlines Inc.</td>\n",
              "    </tr>\n",
              "    <tr>\n",
              "      <th>12</th>\n",
              "      <td>MQ</td>\n",
              "      <td>American Eagle Airlines Inc.</td>\n",
              "    </tr>\n",
              "    <tr>\n",
              "      <th>13</th>\n",
              "      <td>VX</td>\n",
              "      <td>Virgin America</td>\n",
              "    </tr>\n",
              "  </tbody>\n",
              "</table>\n",
              "</div>"
            ],
            "text/plain": [
              "   IATA_CODE                       AIRLINE\n",
              "0         UA         United Air Lines Inc.\n",
              "1         AA        American Airlines Inc.\n",
              "2         US               US Airways Inc.\n",
              "3         F9        Frontier Airlines Inc.\n",
              "4         B6               JetBlue Airways\n",
              "5         OO         Skywest Airlines Inc.\n",
              "6         AS          Alaska Airlines Inc.\n",
              "7         NK              Spirit Air Lines\n",
              "8         WN        Southwest Airlines Co.\n",
              "9         DL          Delta Air Lines Inc.\n",
              "10        EV   Atlantic Southeast Airlines\n",
              "11        HA        Hawaiian Airlines Inc.\n",
              "12        MQ  American Eagle Airlines Inc.\n",
              "13        VX                Virgin America"
            ]
          },
          "metadata": {
            "tags": []
          },
          "execution_count": 18
        }
      ]
    },
    {
      "cell_type": "markdown",
      "metadata": {
        "id": "AkZ2x8gAvH87"
      },
      "source": [
        "putting the data frame containing full details of the airlines into the dictionary "
      ]
    },
    {
      "cell_type": "code",
      "metadata": {
        "id": "JR7pb8VvI0p1"
      },
      "source": [
        "abbr_companies = airlines_names.set_index('IATA_CODE')['AIRLINE'].to_dict()"
      ],
      "execution_count": null,
      "outputs": []
    },
    {
      "cell_type": "code",
      "metadata": {
        "id": "bOiU7SAFI3rQ",
        "colab": {
          "base_uri": "https://localhost:8080/",
          "height": 514
        },
        "outputId": "6d0d11c6-ebfe-45af-cc77-c785175abe0b"
      },
      "source": [
        "#here we are summarizing the dataset by using diff functions\n",
        "def get_stats(group):\n",
        "\n",
        "    return {'min': group.min(), 'max': group.max(),\n",
        "            'count': group.count(), 'mean': group.mean()}\n",
        "        \n",
        "final_stats = df['DEPARTURE_DELAY'].groupby(df['AIRLINE']).apply(get_stats).unstack()\n",
        "final_stats = final_stats.sort_values('count')\n",
        "final_stats"
      ],
      "execution_count": null,
      "outputs": [
        {
          "output_type": "execute_result",
          "data": {
            "text/html": [
              "<div>\n",
              "<style scoped>\n",
              "    .dataframe tbody tr th:only-of-type {\n",
              "        vertical-align: middle;\n",
              "    }\n",
              "\n",
              "    .dataframe tbody tr th {\n",
              "        vertical-align: top;\n",
              "    }\n",
              "\n",
              "    .dataframe thead th {\n",
              "        text-align: right;\n",
              "    }\n",
              "</style>\n",
              "<table border=\"1\" class=\"dataframe\">\n",
              "  <thead>\n",
              "    <tr style=\"text-align: right;\">\n",
              "      <th></th>\n",
              "      <th>min</th>\n",
              "      <th>max</th>\n",
              "      <th>count</th>\n",
              "      <th>mean</th>\n",
              "    </tr>\n",
              "    <tr>\n",
              "      <th>AIRLINE</th>\n",
              "      <th></th>\n",
              "      <th></th>\n",
              "      <th></th>\n",
              "      <th></th>\n",
              "    </tr>\n",
              "  </thead>\n",
              "  <tbody>\n",
              "    <tr>\n",
              "      <th>VX</th>\n",
              "      <td>-24.0</td>\n",
              "      <td>644.0</td>\n",
              "      <td>61248.0</td>\n",
              "      <td>8.993486</td>\n",
              "    </tr>\n",
              "    <tr>\n",
              "      <th>HA</th>\n",
              "      <td>-27.0</td>\n",
              "      <td>1433.0</td>\n",
              "      <td>76041.0</td>\n",
              "      <td>0.469918</td>\n",
              "    </tr>\n",
              "    <tr>\n",
              "      <th>F9</th>\n",
              "      <td>-46.0</td>\n",
              "      <td>1112.0</td>\n",
              "      <td>90090.0</td>\n",
              "      <td>13.303352</td>\n",
              "    </tr>\n",
              "    <tr>\n",
              "      <th>NK</th>\n",
              "      <td>-37.0</td>\n",
              "      <td>836.0</td>\n",
              "      <td>115193.0</td>\n",
              "      <td>15.883101</td>\n",
              "    </tr>\n",
              "    <tr>\n",
              "      <th>AS</th>\n",
              "      <td>-82.0</td>\n",
              "      <td>963.0</td>\n",
              "      <td>171439.0</td>\n",
              "      <td>1.718926</td>\n",
              "    </tr>\n",
              "    <tr>\n",
              "      <th>US</th>\n",
              "      <td>-28.0</td>\n",
              "      <td>759.0</td>\n",
              "      <td>194223.0</td>\n",
              "      <td>6.081000</td>\n",
              "    </tr>\n",
              "    <tr>\n",
              "      <th>B6</th>\n",
              "      <td>-31.0</td>\n",
              "      <td>1006.0</td>\n",
              "      <td>262042.0</td>\n",
              "      <td>11.442467</td>\n",
              "    </tr>\n",
              "    <tr>\n",
              "      <th>MQ</th>\n",
              "      <td>-36.0</td>\n",
              "      <td>1544.0</td>\n",
              "      <td>278791.0</td>\n",
              "      <td>9.967187</td>\n",
              "    </tr>\n",
              "    <tr>\n",
              "      <th>UA</th>\n",
              "      <td>-40.0</td>\n",
              "      <td>1314.0</td>\n",
              "      <td>507762.0</td>\n",
              "      <td>14.333056</td>\n",
              "    </tr>\n",
              "    <tr>\n",
              "      <th>EV</th>\n",
              "      <td>-55.0</td>\n",
              "      <td>1236.0</td>\n",
              "      <td>554752.0</td>\n",
              "      <td>8.615598</td>\n",
              "    </tr>\n",
              "    <tr>\n",
              "      <th>OO</th>\n",
              "      <td>-56.0</td>\n",
              "      <td>1378.0</td>\n",
              "      <td>576814.0</td>\n",
              "      <td>7.736083</td>\n",
              "    </tr>\n",
              "    <tr>\n",
              "      <th>AA</th>\n",
              "      <td>-68.0</td>\n",
              "      <td>1988.0</td>\n",
              "      <td>712935.0</td>\n",
              "      <td>8.826106</td>\n",
              "    </tr>\n",
              "    <tr>\n",
              "      <th>DL</th>\n",
              "      <td>-61.0</td>\n",
              "      <td>1289.0</td>\n",
              "      <td>870275.0</td>\n",
              "      <td>7.313300</td>\n",
              "    </tr>\n",
              "    <tr>\n",
              "      <th>WN</th>\n",
              "      <td>-28.0</td>\n",
              "      <td>665.0</td>\n",
              "      <td>1242403.0</td>\n",
              "      <td>10.517183</td>\n",
              "    </tr>\n",
              "  </tbody>\n",
              "</table>\n",
              "</div>"
            ],
            "text/plain": [
              "          min     max      count       mean\n",
              "AIRLINE                                    \n",
              "VX      -24.0   644.0    61248.0   8.993486\n",
              "HA      -27.0  1433.0    76041.0   0.469918\n",
              "F9      -46.0  1112.0    90090.0  13.303352\n",
              "NK      -37.0   836.0   115193.0  15.883101\n",
              "AS      -82.0   963.0   171439.0   1.718926\n",
              "US      -28.0   759.0   194223.0   6.081000\n",
              "B6      -31.0  1006.0   262042.0  11.442467\n",
              "MQ      -36.0  1544.0   278791.0   9.967187\n",
              "UA      -40.0  1314.0   507762.0  14.333056\n",
              "EV      -55.0  1236.0   554752.0   8.615598\n",
              "OO      -56.0  1378.0   576814.0   7.736083\n",
              "AA      -68.0  1988.0   712935.0   8.826106\n",
              "DL      -61.0  1289.0   870275.0   7.313300\n",
              "WN      -28.0   665.0  1242403.0  10.517183"
            ]
          },
          "metadata": {
            "tags": []
          },
          "execution_count": 20
        }
      ]
    },
    {
      "cell_type": "markdown",
      "metadata": {
        "id": "ooClo1fUvVgm"
      },
      "source": [
        "creating a plot to see the departure behaviour of various airlines"
      ]
    },
    {
      "cell_type": "code",
      "metadata": {
        "id": "t_-f2BNAI61E",
        "colab": {
          "base_uri": "https://localhost:8080/",
          "height": 504
        },
        "outputId": "e0977985-7d90-41bb-cdd1-7f0c15112ae7"
      },
      "source": [
        "import matplotlib.pyplot as plt\n",
        "from matplotlib import gridspec\n",
        "import seaborn as sns\n",
        "\n",
        "fig = plt.figure(1, figsize=(16,15))\n",
        "gs=gridspec.GridSpec(2,2)   \n",
        "ax3=fig.add_subplot(gs[1,:]) \n",
        "ax3 = sns.stripplot(y=\"AIRLINE\", x=\"DEPARTURE_DELAY\", data = df, size = 4, linewidth = .6, jitter = True) \n",
        "ax3.set_xticklabels(['{:2.0f}h{:2.0f}m'.format(*[int(y) for y in divmod(x,60)])\n",
        "                          for x in ax3.get_xticks()])\n",
        "plt.xlabel('Departure delay')"
      ],
      "execution_count": null,
      "outputs": [
        {
          "output_type": "stream",
          "text": [
            "/usr/local/lib/python3.6/dist-packages/statsmodels/tools/_testing.py:19: FutureWarning: pandas.util.testing is deprecated. Use the functions in the public API at pandas.testing instead.\n",
            "  import pandas.util.testing as tm\n"
          ],
          "name": "stderr"
        },
        {
          "output_type": "execute_result",
          "data": {
            "text/plain": [
              "Text(0.5, 0, 'Departure delay')"
            ]
          },
          "metadata": {
            "tags": []
          },
          "execution_count": 21
        },
        {
          "output_type": "display_data",
          "data": {
            "image/png": "[encoded data removed]",
            "text/plain": [
              "<Figure size 1152x1080 with 1 Axes>"
            ]
          },
          "metadata": {
            "tags": [],
            "needs_background": "light"
          }
        }
      ]
    },
    {
      "cell_type": "markdown",
      "metadata": {
        "id": "g6Mj4Gniv11e"
      },
      "source": [
        "Heat-Map showing Feature-to-Feature and\n",
        "Feature-to-Label's Pearson Correlation Coefficients"
      ]
    },
    {
      "cell_type": "code",
      "metadata": {
        "id": "arurWfhOI-b1",
        "colab": {
          "base_uri": "https://localhost:8080/",
          "height": 628
        },
        "outputId": "a7cf4811-0764-48fa-8fb2-32fcc9a97e0a"
      },
      "source": [
        "delcorrmat = df.corr()\n",
        "k = 18\n",
        "f, ax = plt.subplots(figsize = (12,9))\n",
        "cols =delcorrmat.nlargest(k, 'ARRIVAL_DELAY')['ARRIVAL_DELAY'].index\n",
        "cm = np. corrcoef(df[cols].values.T)\n",
        "sns.set(font_scale=1.25)\n",
        "hm = sns.heatmap(cm, cbar = True, annot = True, square = True, fmt= '.2f', annot_kws= {'size': 15}, yticklabels = cols.values, xticklabels = cols.values)\n",
        "plt.show()"
      ],
      "execution_count": null,
      "outputs": [
        {
          "output_type": "display_data",
          "data": {
            "image/png": "[encoded data removed]",
            "text/plain": [
              "<Figure size 864x648 with 2 Axes>"
            ]
          },
          "metadata": {
            "tags": [],
            "needs_background": "light"
          }
        }
      ]
    },
    {
      "cell_type": "markdown",
      "metadata": {
        "id": "uiZIxlA9wYgJ"
      },
      "source": [
        "from this figure, we can see that delays at arrival are generally lower than at departure. This indicates that airlines adjust their flight speed in order to reduce the delays at arrival"
      ]
    },
    {
      "cell_type": "code",
      "metadata": {
        "id": "UhhuJbsnJBQZ",
        "colab": {
          "base_uri": "https://localhost:8080/",
          "height": 555
        },
        "outputId": "81c52314-e373-42a2-bc2e-e01b0438b99a"
      },
      "source": [
        "#delay at arrival is lower than delay at departure \n",
        "import matplotlib as mpl\n",
        "mpl.rcParams.update(mpl.rcParamsDefault)\n",
        "mpl.rcParams['hatch.linewidth'] = 2.0  \n",
        "\n",
        "fig = plt.figure(1, figsize=(11,6))\n",
        "ax = sns.barplot(x=\"DEPARTURE_DELAY\", y=\"AIRLINE\", data=df, color=\"orange\", ci=None)\n",
        "ax = sns.barplot(x=\"ARRIVAL_DELAY\", y=\"AIRLINE\", data=df, color=\"r\", hatch = '///',\n",
        "                 alpha = 0.0, ci=None)\n",
        "labels = [abbr_companies[item.get_text()] for item in ax.get_yticklabels()]\n",
        "ax.set_yticklabels(labels)\n",
        "ax.yaxis.label.set_visible(False)\n",
        "plt.xlabel('Mean delay [min] (@departure: orange, @arrival: hatch lines)',\n",
        "           fontsize=14, weight = 'bold', labelpad=10);"
      ],
      "execution_count": null,
      "outputs": [
        {
          "output_type": "display_data",
          "data": {
            "image/png": "[encoded data removed]",
            "text/plain": [
              "<Figure size 1100x600 with 1 Axes>"
            ]
          },
          "metadata": {
            "tags": []
          }
        }
      ]
    },
    {
      "cell_type": "code",
      "metadata": {
        "id": "gyTMTBHNJFBq",
        "colab": {
          "base_uri": "https://localhost:8080/",
          "height": 391
        },
        "outputId": "3ba93f90-ad71-42bd-dc44-daedafd45e03"
      },
      "source": [
        "df.info()"
      ],
      "execution_count": null,
      "outputs": [
        {
          "output_type": "stream",
          "text": [
            "<class 'pandas.core.frame.DataFrame'>\n",
            "Int64Index: 5714008 entries, 0 to 5819078\n",
            "Data columns (total 15 columns):\n",
            " #   Column               Dtype         \n",
            "---  ------               -----         \n",
            " 0   AIRLINE              object        \n",
            " 1   FLIGHT_NUMBER        int64         \n",
            " 2   ORIGIN_AIRPORT       object        \n",
            " 3   DESTINATION_AIRPORT  object        \n",
            " 4   SCHEDULED_DEPARTURE  datetime64[ns]\n",
            " 5   DEPARTURE_TIME       object        \n",
            " 6   DEPARTURE_DELAY      float64       \n",
            " 7   SCHEDULED_TIME       float64       \n",
            " 8   ELAPSED_TIME         float64       \n",
            " 9   AIR_TIME             float64       \n",
            " 10  SCHEDULED_ARRIVAL    object        \n",
            " 11  ARRIVAL_TIME         object        \n",
            " 12  ARRIVAL_DELAY        float64       \n",
            " 13  TAXI_OUT             float64       \n",
            " 14  TAXI_IN              float64       \n",
            "dtypes: datetime64[ns](1), float64(7), int64(1), object(6)\n",
            "memory usage: 697.5+ MB\n"
          ],
          "name": "stdout"
        }
      ]
    },
    {
      "cell_type": "markdown",
      "metadata": {
        "id": "mL1mtjIxjpkS"
      },
      "source": [
        "changing the original_airport to string"
      ]
    },
    {
      "cell_type": "code",
      "metadata": {
        "id": "9hhN7BdPJH_1",
        "colab": {
          "base_uri": "https://localhost:8080/",
          "height": 326
        },
        "outputId": "a76e28e9-bc45-4dba-fe79-d959c7ff6298"
      },
      "source": [
        "df['ORIGIN_AIRPORT'] = df['ORIGIN_AIRPORT'].astype(str) \n",
        "df.head()"
      ],
      "execution_count": null,
      "outputs": [
        {
          "output_type": "stream",
          "text": [
            "/usr/local/lib/python3.6/dist-packages/ipykernel_launcher.py:1: SettingWithCopyWarning: \n",
            "A value is trying to be set on a copy of a slice from a DataFrame.\n",
            "Try using .loc[row_indexer,col_indexer] = value instead\n",
            "\n",
            "See the caveats in the documentation: https://pandas.pydata.org/pandas-docs/stable/user_guide/indexing.html#returning-a-view-versus-a-copy\n",
            "  \"\"\"Entry point for launching an IPython kernel.\n"
          ],
          "name": "stderr"
        },
        {
          "output_type": "execute_result",
          "data": {
            "text/html": [
              "<div>\n",
              "<style scoped>\n",
              "    .dataframe tbody tr th:only-of-type {\n",
              "        vertical-align: middle;\n",
              "    }\n",
              "\n",
              "    .dataframe tbody tr th {\n",
              "        vertical-align: top;\n",
              "    }\n",
              "\n",
              "    .dataframe thead th {\n",
              "        text-align: right;\n",
              "    }\n",
              "</style>\n",
              "<table border=\"1\" class=\"dataframe\">\n",
              "  <thead>\n",
              "    <tr style=\"text-align: right;\">\n",
              "      <th></th>\n",
              "      <th>AIRLINE</th>\n",
              "      <th>FLIGHT_NUMBER</th>\n",
              "      <th>ORIGIN_AIRPORT</th>\n",
              "      <th>DESTINATION_AIRPORT</th>\n",
              "      <th>SCHEDULED_DEPARTURE</th>\n",
              "      <th>DEPARTURE_TIME</th>\n",
              "      <th>DEPARTURE_DELAY</th>\n",
              "      <th>SCHEDULED_TIME</th>\n",
              "      <th>ELAPSED_TIME</th>\n",
              "      <th>AIR_TIME</th>\n",
              "      <th>SCHEDULED_ARRIVAL</th>\n",
              "      <th>ARRIVAL_TIME</th>\n",
              "      <th>ARRIVAL_DELAY</th>\n",
              "      <th>TAXI_OUT</th>\n",
              "      <th>TAXI_IN</th>\n",
              "    </tr>\n",
              "  </thead>\n",
              "  <tbody>\n",
              "    <tr>\n",
              "      <th>0</th>\n",
              "      <td>AS</td>\n",
              "      <td>98</td>\n",
              "      <td>ANC</td>\n",
              "      <td>SEA</td>\n",
              "      <td>2015-01-01 00:05:00</td>\n",
              "      <td>23:54:00</td>\n",
              "      <td>-11.0</td>\n",
              "      <td>205.0</td>\n",
              "      <td>194.0</td>\n",
              "      <td>169.0</td>\n",
              "      <td>04:30:00</td>\n",
              "      <td>04:08:00</td>\n",
              "      <td>-22.0</td>\n",
              "      <td>21.0</td>\n",
              "      <td>4.0</td>\n",
              "    </tr>\n",
              "    <tr>\n",
              "      <th>1</th>\n",
              "      <td>AA</td>\n",
              "      <td>2336</td>\n",
              "      <td>LAX</td>\n",
              "      <td>PBI</td>\n",
              "      <td>2015-01-01 00:10:00</td>\n",
              "      <td>00:02:00</td>\n",
              "      <td>-8.0</td>\n",
              "      <td>280.0</td>\n",
              "      <td>279.0</td>\n",
              "      <td>263.0</td>\n",
              "      <td>07:50:00</td>\n",
              "      <td>07:41:00</td>\n",
              "      <td>-9.0</td>\n",
              "      <td>12.0</td>\n",
              "      <td>4.0</td>\n",
              "    </tr>\n",
              "    <tr>\n",
              "      <th>2</th>\n",
              "      <td>US</td>\n",
              "      <td>840</td>\n",
              "      <td>SFO</td>\n",
              "      <td>CLT</td>\n",
              "      <td>2015-01-01 00:20:00</td>\n",
              "      <td>00:18:00</td>\n",
              "      <td>-2.0</td>\n",
              "      <td>286.0</td>\n",
              "      <td>293.0</td>\n",
              "      <td>266.0</td>\n",
              "      <td>08:06:00</td>\n",
              "      <td>08:11:00</td>\n",
              "      <td>5.0</td>\n",
              "      <td>16.0</td>\n",
              "      <td>11.0</td>\n",
              "    </tr>\n",
              "    <tr>\n",
              "      <th>3</th>\n",
              "      <td>AA</td>\n",
              "      <td>258</td>\n",
              "      <td>LAX</td>\n",
              "      <td>MIA</td>\n",
              "      <td>2015-01-01 00:20:00</td>\n",
              "      <td>00:15:00</td>\n",
              "      <td>-5.0</td>\n",
              "      <td>285.0</td>\n",
              "      <td>281.0</td>\n",
              "      <td>258.0</td>\n",
              "      <td>08:05:00</td>\n",
              "      <td>07:56:00</td>\n",
              "      <td>-9.0</td>\n",
              "      <td>15.0</td>\n",
              "      <td>8.0</td>\n",
              "    </tr>\n",
              "    <tr>\n",
              "      <th>4</th>\n",
              "      <td>AS</td>\n",
              "      <td>135</td>\n",
              "      <td>SEA</td>\n",
              "      <td>ANC</td>\n",
              "      <td>2015-01-01 00:25:00</td>\n",
              "      <td>00:24:00</td>\n",
              "      <td>-1.0</td>\n",
              "      <td>235.0</td>\n",
              "      <td>215.0</td>\n",
              "      <td>199.0</td>\n",
              "      <td>03:20:00</td>\n",
              "      <td>02:59:00</td>\n",
              "      <td>-21.0</td>\n",
              "      <td>11.0</td>\n",
              "      <td>5.0</td>\n",
              "    </tr>\n",
              "  </tbody>\n",
              "</table>\n",
              "</div>"
            ],
            "text/plain": [
              "  AIRLINE  FLIGHT_NUMBER ORIGIN_AIRPORT  ... ARRIVAL_DELAY TAXI_OUT TAXI_IN\n",
              "0      AS             98            ANC  ...         -22.0     21.0     4.0\n",
              "1      AA           2336            LAX  ...          -9.0     12.0     4.0\n",
              "2      US            840            SFO  ...           5.0     16.0    11.0\n",
              "3      AA            258            LAX  ...          -9.0     15.0     8.0\n",
              "4      AS            135            SEA  ...         -21.0     11.0     5.0\n",
              "\n",
              "[5 rows x 15 columns]"
            ]
          },
          "metadata": {
            "tags": []
          },
          "execution_count": 25
        }
      ]
    },
    {
      "cell_type": "markdown",
      "metadata": {
        "id": "8A9jQCLzjzpR"
      },
      "source": [
        "I WILL CREATE A MODEL THAT USES 3 WEEK'S PERIOD TO PREDICT THE DELAY OF THE UPCOMING WEEKS."
      ]
    },
    {
      "cell_type": "markdown",
      "metadata": {
        "id": "IEcoYyVLkaD_"
      },
      "source": [
        "1st considering 3 weeks, i.e 10th to 31st of JAN"
      ]
    },
    {
      "cell_type": "code",
      "metadata": {
        "id": "EBKM76L6LL8_"
      },
      "source": [
        "df_train = df[df['SCHEDULED_DEPARTURE'].apply(lambda x:x.date()) < datetime.date(2015, 1, 10)]\n",
        "df_test  = df[df['SCHEDULED_DEPARTURE'].apply(lambda x:x.date()) > datetime.date(2015, 1, 10)]\n",
        "df = df_train"
      ],
      "execution_count": null,
      "outputs": []
    },
    {
      "cell_type": "markdown",
      "metadata": {
        "id": "H-ZjSSv2nJIt"
      },
      "source": [
        "While treating the entire data set, the number of fits were large and I was unable to perform the model. So, I decided to consider only one airline i.e. the 'AMERICAN AIRLINE'. "
      ]
    },
    {
      "cell_type": "code",
      "metadata": {
        "id": "j2J1AQq1bQLF",
        "colab": {
          "base_uri": "https://localhost:8080/",
          "height": 390
        },
        "outputId": "2417c9fd-42ed-4b7a-aa02-a0ddfc0db9be"
      },
      "source": [
        "#considering all the flights of AA and see the stats of each that left the airport.\n",
        "carrier_airline = 'AA'\n",
        "check_airports = df[(df['AIRLINE'] == carrier_airline)]['DEPARTURE_DELAY'].groupby(\n",
        "                         df['ORIGIN_AIRPORT']).apply(get_stats).unstack()\n",
        "check_airports.sort_values('count', ascending = False, inplace = True)\n",
        "check_airports[:10]"
      ],
      "execution_count": null,
      "outputs": [
        {
          "output_type": "execute_result",
          "data": {
            "text/html": [
              "<div>\n",
              "<style scoped>\n",
              "    .dataframe tbody tr th:only-of-type {\n",
              "        vertical-align: middle;\n",
              "    }\n",
              "\n",
              "    .dataframe tbody tr th {\n",
              "        vertical-align: top;\n",
              "    }\n",
              "\n",
              "    .dataframe thead th {\n",
              "        text-align: right;\n",
              "    }\n",
              "</style>\n",
              "<table border=\"1\" class=\"dataframe\">\n",
              "  <thead>\n",
              "    <tr style=\"text-align: right;\">\n",
              "      <th></th>\n",
              "      <th>min</th>\n",
              "      <th>max</th>\n",
              "      <th>count</th>\n",
              "      <th>mean</th>\n",
              "    </tr>\n",
              "    <tr>\n",
              "      <th>ORIGIN_AIRPORT</th>\n",
              "      <th></th>\n",
              "      <th></th>\n",
              "      <th></th>\n",
              "      <th></th>\n",
              "    </tr>\n",
              "  </thead>\n",
              "  <tbody>\n",
              "    <tr>\n",
              "      <th>DFW</th>\n",
              "      <td>-12.0</td>\n",
              "      <td>753.0</td>\n",
              "      <td>3618.0</td>\n",
              "      <td>26.472637</td>\n",
              "    </tr>\n",
              "    <tr>\n",
              "      <th>MIA</th>\n",
              "      <td>-11.0</td>\n",
              "      <td>649.0</td>\n",
              "      <td>1250.0</td>\n",
              "      <td>18.996800</td>\n",
              "    </tr>\n",
              "    <tr>\n",
              "      <th>ORD</th>\n",
              "      <td>-11.0</td>\n",
              "      <td>420.0</td>\n",
              "      <td>1141.0</td>\n",
              "      <td>34.833479</td>\n",
              "    </tr>\n",
              "    <tr>\n",
              "      <th>LAX</th>\n",
              "      <td>-13.0</td>\n",
              "      <td>234.0</td>\n",
              "      <td>798.0</td>\n",
              "      <td>8.843358</td>\n",
              "    </tr>\n",
              "    <tr>\n",
              "      <th>JFK</th>\n",
              "      <td>-11.0</td>\n",
              "      <td>891.0</td>\n",
              "      <td>399.0</td>\n",
              "      <td>27.942356</td>\n",
              "    </tr>\n",
              "    <tr>\n",
              "      <th>LGA</th>\n",
              "      <td>-13.0</td>\n",
              "      <td>278.0</td>\n",
              "      <td>349.0</td>\n",
              "      <td>19.856734</td>\n",
              "    </tr>\n",
              "    <tr>\n",
              "      <th>MCO</th>\n",
              "      <td>-26.0</td>\n",
              "      <td>742.0</td>\n",
              "      <td>275.0</td>\n",
              "      <td>17.181818</td>\n",
              "    </tr>\n",
              "    <tr>\n",
              "      <th>BOS</th>\n",
              "      <td>-13.0</td>\n",
              "      <td>1190.0</td>\n",
              "      <td>265.0</td>\n",
              "      <td>14.981132</td>\n",
              "    </tr>\n",
              "    <tr>\n",
              "      <th>SFO</th>\n",
              "      <td>-15.0</td>\n",
              "      <td>363.0</td>\n",
              "      <td>263.0</td>\n",
              "      <td>13.802281</td>\n",
              "    </tr>\n",
              "    <tr>\n",
              "      <th>DCA</th>\n",
              "      <td>-24.0</td>\n",
              "      <td>354.0</td>\n",
              "      <td>257.0</td>\n",
              "      <td>19.167315</td>\n",
              "    </tr>\n",
              "  </tbody>\n",
              "</table>\n",
              "</div>"
            ],
            "text/plain": [
              "                 min     max   count       mean\n",
              "ORIGIN_AIRPORT                                 \n",
              "DFW            -12.0   753.0  3618.0  26.472637\n",
              "MIA            -11.0   649.0  1250.0  18.996800\n",
              "ORD            -11.0   420.0  1141.0  34.833479\n",
              "LAX            -13.0   234.0   798.0   8.843358\n",
              "JFK            -11.0   891.0   399.0  27.942356\n",
              "LGA            -13.0   278.0   349.0  19.856734\n",
              "MCO            -26.0   742.0   275.0  17.181818\n",
              "BOS            -13.0  1190.0   265.0  14.981132\n",
              "SFO            -15.0   363.0   263.0  13.802281\n",
              "DCA            -24.0   354.0   257.0  19.167315"
            ]
          },
          "metadata": {
            "tags": []
          },
          "execution_count": 27
        }
      ]
    },
    {
      "cell_type": "markdown",
      "metadata": {
        "id": "xj1_67RbvRJR"
      },
      "source": [
        "During exploration(EDA) we observed that there are 'extreme delays' in case of certain airlines( at times even >10 hrs) which could've been due to any reason(weather, accident or layover etc.). So we will get rid of the extreme delays so that we could avoid bias and our data fits well.\n"
      ]
    },
    {
      "cell_type": "code",
      "metadata": {
        "id": "l3RVGE0uvX_v"
      },
      "source": [
        "#the function get_flight_delays calculates the mean flight delays per airline per airport \n",
        "def get_flight_delays(df, carrier_airline, id_airport, extreme_values = False):\n",
        "    df2 = df[(df['AIRLINE'] == carrier_airline) & (df['ORIGIN_AIRPORT'] == id_airport)]\n",
        "    \n",
        "# removing extreme values before fitting\n",
        "    if extreme_values:\n",
        "        df2['DEPARTURE_DELAY'] = df2['DEPARTURE_DELAY'].apply(lambda x:x if x < 60 else np.nan)\n",
        "        df2.dropna(how = 'any')\n",
        "    \n",
        "# Conversion: date + hour -> hour\n",
        "    df2.sort_values('SCHEDULED_DEPARTURE', inplace = True)\n",
        "    df2['hour_depart'] =  df2['SCHEDULED_DEPARTURE'].apply(lambda x:x.time())\n",
        "   \n",
        "#regrouping the hour_departure and using groupby fnc to group the data on hour_depart thereby applying unstack fnc\n",
        "    test2 = df2['DEPARTURE_DELAY'].groupby(df2['hour_depart']).apply(get_stats).unstack()\n",
        "    test2.reset_index(inplace=True)\n",
        "#coversion of hour into seconds\n",
        "    fct = lambda x:x.hour*3600+x.minute*60+x.second\n",
        "    test2.reset_index(inplace=True)\n",
        "    test2['hour_depart_min'] = test2['hour_depart'].apply(fct)\n",
        "    return test2"
      ],
      "execution_count": null,
      "outputs": []
    },
    {
      "cell_type": "code",
      "metadata": {
        "id": "LkHVeDKkvfq3"
      },
      "source": [
        "from sklearn import linear_model\n",
        "from sklearn.linear_model import LinearRegression\n",
        "def linear_regression(test2):\n",
        "  test = test2[['mean', 'hour_depart_min']].dropna(how='any', axis = 0)\n",
        "  X = np.array(test['hour_depart_min'])\n",
        "  Y = np.array(test['mean'])\n",
        "  X = X.reshape(len(X),1)\n",
        "  Y = Y.reshape(len(Y),1)\n",
        "  regr = linear_model.LinearRegression()\n",
        "  regr.fit(X, Y)\n",
        "  result = regr.predict(X)\n",
        "  return X, Y, result"
      ],
      "execution_count": null,
      "outputs": []
    },
    {
      "cell_type": "code",
      "metadata": {
        "id": "8010-Mo1vjSz",
        "colab": {
          "base_uri": "https://localhost:8080/",
          "height": 697
        },
        "outputId": "3d563bd7-4a83-42af-d486-4d987aa57cc7"
      },
      "source": [
        "id_airport = 'PHL'\n",
        "df2 = df[(df['AIRLINE'] == carrier_airline) & (df['ORIGIN_AIRPORT'] == id_airport)]\n",
        "df2['hour_depart'] =  df2['SCHEDULED_DEPARTURE'].apply(lambda x:x.time())\n",
        "df2['hour_depart'] = df2['hour_depart'].apply(lambda x:x.hour*3600+x.minute*60+x.second)\n",
        "# first case we take the initial values\n",
        "test2 = get_flight_delays(df, carrier_airline, id_airport, False)\n",
        "X1, Y1, result2 = linear_regression(test2)\n",
        "# second case we eliminate >1hr delays\n",
        "test3 = get_flight_delays(df, carrier_airline, id_airport, True)\n",
        "X2, Y2, result3 = linear_regression(test3)"
      ],
      "execution_count": null,
      "outputs": [
        {
          "output_type": "stream",
          "text": [
            "/usr/local/lib/python3.6/dist-packages/ipykernel_launcher.py:3: SettingWithCopyWarning: \n",
            "A value is trying to be set on a copy of a slice from a DataFrame.\n",
            "Try using .loc[row_indexer,col_indexer] = value instead\n",
            "\n",
            "See the caveats in the documentation: https://pandas.pydata.org/pandas-docs/stable/user_guide/indexing.html#returning-a-view-versus-a-copy\n",
            "  This is separate from the ipykernel package so we can avoid doing imports until\n",
            "/usr/local/lib/python3.6/dist-packages/ipykernel_launcher.py:4: SettingWithCopyWarning: \n",
            "A value is trying to be set on a copy of a slice from a DataFrame.\n",
            "Try using .loc[row_indexer,col_indexer] = value instead\n",
            "\n",
            "See the caveats in the documentation: https://pandas.pydata.org/pandas-docs/stable/user_guide/indexing.html#returning-a-view-versus-a-copy\n",
            "  after removing the cwd from sys.path.\n",
            "/usr/local/lib/python3.6/dist-packages/ipykernel_launcher.py:11: SettingWithCopyWarning: \n",
            "A value is trying to be set on a copy of a slice from a DataFrame\n",
            "\n",
            "See the caveats in the documentation: https://pandas.pydata.org/pandas-docs/stable/user_guide/indexing.html#returning-a-view-versus-a-copy\n",
            "  # This is added back by InteractiveShellApp.init_path()\n",
            "/usr/local/lib/python3.6/dist-packages/ipykernel_launcher.py:12: SettingWithCopyWarning: \n",
            "A value is trying to be set on a copy of a slice from a DataFrame.\n",
            "Try using .loc[row_indexer,col_indexer] = value instead\n",
            "\n",
            "See the caveats in the documentation: https://pandas.pydata.org/pandas-docs/stable/user_guide/indexing.html#returning-a-view-versus-a-copy\n",
            "  if sys.path[0] == '':\n",
            "/usr/local/lib/python3.6/dist-packages/ipykernel_launcher.py:7: SettingWithCopyWarning: \n",
            "A value is trying to be set on a copy of a slice from a DataFrame.\n",
            "Try using .loc[row_indexer,col_indexer] = value instead\n",
            "\n",
            "See the caveats in the documentation: https://pandas.pydata.org/pandas-docs/stable/user_guide/indexing.html#returning-a-view-versus-a-copy\n",
            "  import sys\n",
            "/usr/local/lib/python3.6/dist-packages/ipykernel_launcher.py:11: SettingWithCopyWarning: \n",
            "A value is trying to be set on a copy of a slice from a DataFrame\n",
            "\n",
            "See the caveats in the documentation: https://pandas.pydata.org/pandas-docs/stable/user_guide/indexing.html#returning-a-view-versus-a-copy\n",
            "  # This is added back by InteractiveShellApp.init_path()\n",
            "/usr/local/lib/python3.6/dist-packages/ipykernel_launcher.py:12: SettingWithCopyWarning: \n",
            "A value is trying to be set on a copy of a slice from a DataFrame.\n",
            "Try using .loc[row_indexer,col_indexer] = value instead\n",
            "\n",
            "See the caveats in the documentation: https://pandas.pydata.org/pandas-docs/stable/user_guide/indexing.html#returning-a-view-versus-a-copy\n",
            "  if sys.path[0] == '':\n"
          ],
          "name": "stderr"
        }
      ]
    },
    {
      "cell_type": "markdown",
      "metadata": {
        "id": "4lgCDEpaU0Mv"
      },
      "source": [
        "we would take all the airports into account. In particular, this will allow to predict delays on airports for which the number of data is low with a better accuracy."
      ]
    },
    {
      "cell_type": "code",
      "metadata": {
        "id": "olYTsGMWbWce"
      },
      "source": [
        "def get_merged_delays(df, carrier_airline):\n",
        "  list_airports = df[df['AIRLINE'] == carrier_airline]['ORIGIN_AIRPORT'].unique()\n",
        "  i = 0\n",
        "  list_columns = ['AIRPORT_ID', 'hour_depart_min', 'mean']\n",
        "  for id_airport in list_airports:\n",
        "     test2 = get_flight_delays(df, carrier_airline, id_airport, True)\n",
        "     test2.loc[:, 'AIRPORT_ID'] = id_airport\n",
        "     test2 = test2[list_columns]\n",
        "     test2.dropna(how = 'any', inplace = True)\n",
        "\n",
        "     if i == 0 :\n",
        "       merged_df = test2.copy()\n",
        "\n",
        "     else :\n",
        "       merged_df = pd.concat([merged_df, test2], ignore_index = True)\n",
        "     i += 1\n",
        "  return merged_df \n"
      ],
      "execution_count": null,
      "outputs": []
    },
    {
      "cell_type": "code",
      "metadata": {
        "id": "j1zQUDD_bayy",
        "colab": {
          "base_uri": "https://localhost:8080/",
          "height": 323
        },
        "outputId": "8c919d73-6c82-4fab-b2e2-28459cbcdcd7"
      },
      "source": [
        "carrier_airline = 'AA'\n",
        "merged_df = get_merged_delays(df, carrier_airline)\n",
        "merged_df.shape"
      ],
      "execution_count": null,
      "outputs": [
        {
          "output_type": "stream",
          "text": [
            "/usr/local/lib/python3.6/dist-packages/ipykernel_launcher.py:7: SettingWithCopyWarning: \n",
            "A value is trying to be set on a copy of a slice from a DataFrame.\n",
            "Try using .loc[row_indexer,col_indexer] = value instead\n",
            "\n",
            "See the caveats in the documentation: https://pandas.pydata.org/pandas-docs/stable/user_guide/indexing.html#returning-a-view-versus-a-copy\n",
            "  import sys\n",
            "/usr/local/lib/python3.6/dist-packages/ipykernel_launcher.py:11: SettingWithCopyWarning: \n",
            "A value is trying to be set on a copy of a slice from a DataFrame\n",
            "\n",
            "See the caveats in the documentation: https://pandas.pydata.org/pandas-docs/stable/user_guide/indexing.html#returning-a-view-versus-a-copy\n",
            "  # This is added back by InteractiveShellApp.init_path()\n",
            "/usr/local/lib/python3.6/dist-packages/ipykernel_launcher.py:12: SettingWithCopyWarning: \n",
            "A value is trying to be set on a copy of a slice from a DataFrame.\n",
            "Try using .loc[row_indexer,col_indexer] = value instead\n",
            "\n",
            "See the caveats in the documentation: https://pandas.pydata.org/pandas-docs/stable/user_guide/indexing.html#returning-a-view-versus-a-copy\n",
            "  if sys.path[0] == '':\n"
          ],
          "name": "stderr"
        },
        {
          "output_type": "execute_result",
          "data": {
            "text/plain": [
              "(1782, 3)"
            ]
          },
          "metadata": {
            "tags": []
          },
          "execution_count": 35
        }
      ]
    },
    {
      "cell_type": "markdown",
      "metadata": {
        "id": "kdfwci9HVhIU"
      },
      "source": [
        "In the merged_df dataframe, airports are referenced by an identifier given in the ORIGIN_AIRPORT variable. The corresponding labels can't be used directly in a fit and I thus use the one-hot-encoding method:"
      ]
    },
    {
      "cell_type": "code",
      "metadata": {
        "id": "GDhRhfI3cCem",
        "colab": {
          "base_uri": "https://localhost:8080/",
          "height": 34
        },
        "outputId": "1e8431ca-59f4-4cfd-d40b-92869540d415"
      },
      "source": [
        "from sklearn import preprocessing\n",
        "# label_encoder object knows how to understand word labels. \n",
        "label_encoder = preprocessing.LabelEncoder()\n",
        "integer_encoded = label_encoder.fit_transform(merged_df['AIRPORT_ID'])\n",
        "#__________________________________________________________\n",
        "# correspondance between the codes and tags of the airports\n",
        "zipped = zip(integer_encoded, merged_df['AIRPORT_ID'])\n",
        "label_airports = list(set(list(zipped)))\n",
        "label_airports.sort(key = lambda x:x[0])\n",
        "label_airports[:5]"
      ],
      "execution_count": null,
      "outputs": [
        {
          "output_type": "execute_result",
          "data": {
            "text/plain": [
              "[(0, 'ABQ'), (1, 'ATL'), (2, 'AUS'), (3, 'BDL'), (4, 'BHM')]"
            ]
          },
          "metadata": {
            "tags": []
          },
          "execution_count": 36
        }
      ]
    },
    {
      "cell_type": "markdown",
      "metadata": {
        "id": "LctM2GRqVup-"
      },
      "source": [
        "Above, a label is assigned to each airport. The correlation between the label and the original identifier has been saved in the label_airport list. Now I will proceed with the \"One Hot Encoding\" by creating a matrix where instead of the ORIGIN_AIRPORT variable that contained  M  labels, we build a matrix with  M  columns, filled of 0 and 1 depending on the correspondance with particular airports:"
      ]
    },
    {
      "cell_type": "code",
      "metadata": {
        "id": "NKa_D6S6cGsr",
        "colab": {
          "base_uri": "https://localhost:8080/",
          "height": 34
        },
        "outputId": "e4ab9fb5-d1df-4425-f343-8d29cd81fd80"
      },
      "source": [
        "from sklearn.preprocessing import OneHotEncoder\n",
        "\n",
        "onehot_encoder = OneHotEncoder(sparse=False)\n",
        "integer_encoded = integer_encoded.reshape(len(integer_encoded), 1)\n",
        "onehot_encoded = onehot_encoder.fit_transform(integer_encoded)\n",
        "b = np.array(merged_df['hour_depart_min'])\n",
        "b = b.reshape(len(b),1)\n",
        "X = np.hstack((onehot_encoded, b))\n",
        "Y = np.array(merged_df['mean'])\n",
        "Y = Y.reshape(len(Y), 1)\n",
        "print(X.shape, Y.shape)"
      ],
      "execution_count": null,
      "outputs": [
        {
          "output_type": "stream",
          "text": [
            "(1782, 82) (1782, 1)\n"
          ],
          "name": "stdout"
        }
      ]
    },
    {
      "cell_type": "markdown",
      "metadata": {
        "id": "HltgSr3QWmh2"
      },
      "source": [
        "The matrices X and Y thus created are used to perform a linear regression"
      ]
    },
    {
      "cell_type": "code",
      "metadata": {
        "id": "b4T2eqwXcLTs",
        "colab": {
          "base_uri": "https://localhost:8080/",
          "height": 34
        },
        "outputId": "49b843e0-f3a6-4d74-d622-a376ed442b8e"
      },
      "source": [
        "import sklearn.metrics as metrics\n",
        "from sklearn import linear_model\n",
        "from sklearn.linear_model import LinearRegression\n",
        "lm = linear_model.LinearRegression()\n",
        "model = lm.fit(X,Y)\n",
        "predictions = lm.predict(X)\n",
        "print(\"MSE =\", metrics.mean_squared_error(predictions, Y))"
      ],
      "execution_count": null,
      "outputs": [
        {
          "output_type": "stream",
          "text": [
            "MSE = 69.38929851329762\n"
          ],
          "name": "stdout"
        }
      ]
    },
    {
      "cell_type": "markdown",
      "metadata": {
        "id": "x1E6QqtzZBSb"
      },
      "source": [
        "We use MSE for evaluation of the performance of our regression model. Our main goal is to see if MSE decreases as our algo gains more and more experience. So we'll tally that  in the ahead codes."
      ]
    },
    {
      "cell_type": "code",
      "metadata": {
        "id": "tDAXcpLvcP2k",
        "colab": {
          "base_uri": "https://localhost:8080/",
          "height": 35
        },
        "outputId": "5f18ebda-271c-458c-b125-2bc5d7b78400"
      },
      "source": [
        "#we can have a feeling of the quality of the fit by considering the number of predictions where the differences with real values is greater than 15 minutes:\n",
        "icount = 0\n",
        "for i, val in enumerate(Y):\n",
        "    if abs(val-predictions[i]) > 15: icount += 1\n",
        "'{:.2f}%'.format(icount / len(predictions) * 100)"
      ],
      "execution_count": null,
      "outputs": [
        {
          "output_type": "execute_result",
          "data": {
            "application/vnd.google.colaboratory.intrinsic+json": {
              "type": "string"
            },
            "text/plain": [
              "'7.30%'"
            ]
          },
          "metadata": {
            "tags": []
          },
          "execution_count": 39
        }
      ]
    },
    {
      "cell_type": "markdown",
      "metadata": {
        "id": "VcQ_NFOzaicD"
      },
      "source": [
        "In practice, this model tends to underestimate the large delays, which can be seen in the following figure:"
      ]
    },
    {
      "cell_type": "code",
      "metadata": {
        "id": "31Pf3_3tZ9Ra",
        "colab": {
          "base_uri": "https://localhost:8080/",
          "height": 636
        },
        "outputId": "027bba09-1179-4586-a739-6ce7d8e0b1d1"
      },
      "source": [
        "import seaborn as sns\n",
        "import matplotlib.pyplot as plt\n",
        "sns.set()\n",
        "tips = pd.DataFrame()\n",
        "tips[\"prediction\"] = pd.Series([float(s) for s in predictions])\n",
        "tips[\"original_data\"] = pd.Series([float(s) for s in Y]) \n",
        "sns.jointplot(x=\"original_data\", y=\"prediction\", data=tips, size = 6, ratio = 7, joint_kws={'line_kws':{'color':'yellow'}}, kind='reg')\n",
        "plt.xlabel('Mean delays (min)', fontsize = 15)\n",
        "plt.ylabel('Predictions (min)', fontsize = 15)\n",
        "plt.plot(list(range(-10,25)), list(range(-10,25)), linestyle = ':', color = 'r')\n",
        "plt.show()"
      ],
      "execution_count": null,
      "outputs": [
        {
          "output_type": "stream",
          "text": [
            "/usr/local/lib/python3.6/dist-packages/seaborn/axisgrid.py:2264: UserWarning: The `size` parameter has been renamed to `height`; please update your code.\n",
            "  warnings.warn(msg, UserWarning)\n"
          ],
          "name": "stderr"
        },
        {
          "output_type": "display_data",
          "data": {
            "image/png": "[encoded data removed]",
            "text/plain": [
              "<Figure size 600x600 with 3 Axes>"
            ]
          },
          "metadata": {
            "tags": []
          }
        }
      ]
    },
    {
      "cell_type": "markdown",
      "metadata": {
        "id": "7EIJAZeVbK4t"
      },
      "source": [
        "We'll try to improve the algo by using polynomial features instead of linear features "
      ]
    },
    {
      "cell_type": "code",
      "metadata": {
        "id": "iFa4NMzXcXkK",
        "colab": {
          "base_uri": "https://localhost:8080/",
          "height": 34
        },
        "outputId": "29953ef2-484a-40d0-b24d-adbc1559fe62"
      },
      "source": [
        "from sklearn.preprocessing import PolynomialFeatures\n",
        "poly = PolynomialFeatures(degree = 2)\n",
        "regr = linear_model.LinearRegression()\n",
        "X_ = poly.fit_transform(X)\n",
        "regr.fit(X_, Y)"
      ],
      "execution_count": null,
      "outputs": [
        {
          "output_type": "execute_result",
          "data": {
            "text/plain": [
              "LinearRegression(copy_X=True, fit_intercept=True, n_jobs=None, normalize=False)"
            ]
          },
          "metadata": {
            "tags": []
          },
          "execution_count": 41
        }
      ]
    },
    {
      "cell_type": "code",
      "metadata": {
        "id": "3ira0ZgKeiNT",
        "colab": {
          "base_uri": "https://localhost:8080/",
          "height": 34
        },
        "outputId": "77b09d73-9d37-46f2-ec99-8cb2e020d329"
      },
      "source": [
        "result = regr.predict(X_)\n",
        "print(\"MSE =\", metrics.mean_squared_error(result, Y))"
      ],
      "execution_count": null,
      "outputs": [
        {
          "output_type": "stream",
          "text": [
            "MSE = 63.786339438004205\n"
          ],
          "name": "stdout"
        }
      ]
    },
    {
      "cell_type": "markdown",
      "metadata": {
        "id": "3-pdoc3zbeze"
      },
      "source": [
        "we see that there's slight improvement in our MSE score "
      ]
    },
    {
      "cell_type": "markdown",
      "metadata": {
        "id": "NHcOW7IszH0d"
      },
      "source": [
        "delays  > 15 minutes: 6.17%"
      ]
    },
    {
      "cell_type": "code",
      "metadata": {
        "id": "T1bIXe7ZemIe",
        "colab": {
          "base_uri": "https://localhost:8080/",
          "height": 35
        },
        "outputId": "ccaaefe0-209a-4f95-ad0a-306749699acb"
      },
      "source": [
        "icount = 0\n",
        "for i, val in enumerate(Y):\n",
        "    if abs(val-result[i]) > 15: icount += 1\n",
        "'{:.2f}%'.format(icount / len(result) * 100)"
      ],
      "execution_count": null,
      "outputs": [
        {
          "output_type": "execute_result",
          "data": {
            "application/vnd.google.colaboratory.intrinsic+json": {
              "type": "string"
            },
            "text/plain": [
              "'6.17%'"
            ]
          },
          "metadata": {
            "tags": []
          },
          "execution_count": 43
        }
      ]
    },
    {
      "cell_type": "markdown",
      "metadata": {
        "id": "fQ6T9DM9bt3F"
      },
      "source": [
        " I will now split the datas in order to train and then test the model. \n",
        " The purpose will be to determine the polynomial degree which allows the best generalization of the predictions:"
      ]
    },
    {
      "cell_type": "code",
      "metadata": {
        "id": "Yu7gb_XzfJrA"
      },
      "source": [
        "from sklearn.model_selection import train_test_split\n",
        "X_train, X_test, Y_train, Y_test = train_test_split(X, Y, test_size=0.3)"
      ],
      "execution_count": null,
      "outputs": []
    },
    {
      "cell_type": "code",
      "metadata": {
        "id": "RoL45oegfQC2",
        "colab": {
          "base_uri": "https://localhost:8080/",
          "height": 34
        },
        "outputId": "325cc816-bb41-4c07-e1cb-9af512cbe2ed"
      },
      "source": [
        "X_train.shape"
      ],
      "execution_count": null,
      "outputs": [
        {
          "output_type": "execute_result",
          "data": {
            "text/plain": [
              "(1247, 82)"
            ]
          },
          "metadata": {
            "tags": []
          },
          "execution_count": 45
        }
      ]
    },
    {
      "cell_type": "code",
      "metadata": {
        "id": "GoAayqoxfUwE",
        "colab": {
          "base_uri": "https://localhost:8080/",
          "height": 34
        },
        "outputId": "ab9b0c8a-09e1-4a9d-8474-5584e15d1161"
      },
      "source": [
        "X_test.shape"
      ],
      "execution_count": null,
      "outputs": [
        {
          "output_type": "execute_result",
          "data": {
            "text/plain": [
              "(535, 82)"
            ]
          },
          "metadata": {
            "tags": []
          },
          "execution_count": 46
        }
      ]
    },
    {
      "cell_type": "markdown",
      "metadata": {
        "id": "rx0WsbsfcRbG"
      },
      "source": [
        "we try and use a regularization method and it will show the models which coefficients are the most important"
      ]
    },
    {
      "cell_type": "code",
      "metadata": {
        "id": "3NRpfdFjg-Gl",
        "colab": {
          "base_uri": "https://localhost:8080/",
          "height": 51
        },
        "outputId": "2d2e87a5-5b72-4930-a2d8-d5be925edec8"
      },
      "source": [
        "from sklearn.linear_model import Ridge\n",
        "ridgereg = Ridge(alpha=0.3,normalize=True)\n",
        "poly = PolynomialFeatures(degree = 2)\n",
        "X_ = poly.fit_transform(X_train)\n",
        "ridgereg.fit(X_, Y_train)"
      ],
      "execution_count": null,
      "outputs": [
        {
          "output_type": "execute_result",
          "data": {
            "text/plain": [
              "Ridge(alpha=0.3, copy_X=True, fit_intercept=True, max_iter=None, normalize=True,\n",
              "      random_state=None, solver='auto', tol=0.001)"
            ]
          },
          "metadata": {
            "tags": []
          },
          "execution_count": 47
        }
      ]
    },
    {
      "cell_type": "code",
      "metadata": {
        "id": "6aXiEkDtiChU",
        "colab": {
          "base_uri": "https://localhost:8080/",
          "height": 34
        },
        "outputId": "cc86a1f2-f51b-4cf1-b842-f65b100dd74e"
      },
      "source": [
        "X_ = poly.fit_transform(X_test)\n",
        "result = ridgereg.predict(X_)\n",
        "score = metrics.mean_squared_error(result, Y_test)\n",
        "print(\"Mean squared error = \", score)"
      ],
      "execution_count": null,
      "outputs": [
        {
          "output_type": "stream",
          "text": [
            "Mean squared error =  80.74916431022953\n"
          ],
          "name": "stdout"
        }
      ]
    },
    {
      "cell_type": "markdown",
      "metadata": {
        "id": "DiJbKYw-ziWh"
      },
      "source": [
        "we see MSE = 80.7"
      ]
    },
    {
      "cell_type": "markdown",
      "metadata": {
        "id": "t6J50iPvcoea"
      },
      "source": [
        "And we can see that we obtain a reasonnable score."
      ]
    },
    {
      "cell_type": "code",
      "metadata": {
        "id": "ZMdYUhIkjACA",
        "colab": {
          "base_uri": "https://localhost:8080/",
          "height": 411
        },
        "outputId": "8182acd9-b4c4-44a9-f00a-b79afe686b03"
      },
      "source": [
        "score_min = 10000\n",
        "for pol_order in range(1, 3):\n",
        "    for alpha in range(0, 20, 2):\n",
        "        ridgereg = Ridge(alpha = alpha/10, normalize=True)\n",
        "        poly = PolynomialFeatures(degree = pol_order)\n",
        "        regr = linear_model.LinearRegression()\n",
        "        X_ = poly.fit_transform(X_train)\n",
        "        ridgereg.fit(X_, Y_train)        \n",
        "        X_ = poly.fit_transform(X_test)\n",
        "        result = ridgereg.predict(X_)\n",
        "        score = metrics.mean_squared_error(result, Y_test)        \n",
        "        if score < score_min:\n",
        "            score_min = score\n",
        "            parameters = [alpha/10, pol_order]\n",
        "        print('n={} alpha={} , MSE = {:<0.5}'.format(pol_order, alpha, score))"
      ],
      "execution_count": null,
      "outputs": [
        {
          "output_type": "stream",
          "text": [
            "n=1 alpha=0 , MSE = 81.013\n",
            "n=1 alpha=2 , MSE = 80.373\n",
            "n=1 alpha=4 , MSE = 80.753\n",
            "n=1 alpha=6 , MSE = 81.493\n",
            "n=1 alpha=8 , MSE = 82.35\n",
            "n=1 alpha=10 , MSE = 83.22\n",
            "n=1 alpha=12 , MSE = 84.059\n",
            "n=1 alpha=14 , MSE = 84.848\n",
            "n=1 alpha=16 , MSE = 85.582\n",
            "n=1 alpha=18 , MSE = 86.259\n"
          ],
          "name": "stdout"
        },
        {
          "output_type": "stream",
          "text": [
            "/usr/local/lib/python3.6/dist-packages/sklearn/linear_model/_ridge.py:190: UserWarning: Singular matrix in solving dual problem. Using least-squares solution instead.\n",
            "  warnings.warn(\"Singular matrix in solving dual problem. Using \"\n"
          ],
          "name": "stderr"
        },
        {
          "output_type": "stream",
          "text": [
            "n=2 alpha=0 , MSE = 99.784\n",
            "n=2 alpha=2 , MSE = 80.628\n",
            "n=2 alpha=4 , MSE = 80.863\n",
            "n=2 alpha=6 , MSE = 81.089\n",
            "n=2 alpha=8 , MSE = 81.339\n",
            "n=2 alpha=10 , MSE = 81.617\n",
            "n=2 alpha=12 , MSE = 81.918\n",
            "n=2 alpha=14 , MSE = 82.234\n",
            "n=2 alpha=16 , MSE = 82.56\n",
            "n=2 alpha=18 , MSE = 82.891\n"
          ],
          "name": "stdout"
        }
      ]
    },
    {
      "cell_type": "markdown",
      "metadata": {
        "id": "DoJN_YuBz1Lk"
      },
      "source": [
        "the ploynomial of order 2 gives the best genearlized model"
      ]
    },
    {
      "cell_type": "markdown",
      "metadata": {
        "id": "zS9paceBe0XY"
      },
      "source": [
        "Now I use these parameters to test this template over the test set:"
      ]
    },
    {
      "cell_type": "code",
      "metadata": {
        "id": "z-VvK3sGikgu",
        "colab": {
          "base_uri": "https://localhost:8080/",
          "height": 34
        },
        "outputId": "8ad979a0-0387-46cc-eb39-49dd09a91a3e"
      },
      "source": [
        "from sklearn.linear_model import Ridge\n",
        "ridgereg = Ridge(alpha = parameters[0], normalize=True)\n",
        "poly = PolynomialFeatures(degree = parameters[1])\n",
        "X_ = poly.fit_transform(X)\n",
        "ridgereg.fit(X_, Y)\n",
        "result = ridgereg.predict(X_)\n",
        "score = metrics.mean_squared_error(result, Y)        \n",
        "print(score)"
      ],
      "execution_count": null,
      "outputs": [
        {
          "output_type": "stream",
          "text": [
            "70.11788205661459\n"
          ],
          "name": "stdout"
        }
      ]
    },
    {
      "cell_type": "markdown",
      "metadata": {
        "id": "ipMWmJbdMk5D"
      },
      "source": [
        "MSE IS EQUIVALENT TO AN AVERAGE DELAY OF 8.37 MINS"
      ]
    },
    {
      "cell_type": "code",
      "metadata": {
        "id": "WTWTxXzxpHnG",
        "colab": {
          "base_uri": "https://localhost:8080/",
          "height": 35
        },
        "outputId": "b56592ad-ef95-4cec-d3e4-073b6ffdddb6"
      },
      "source": [
        "'Ecart = {:.2f} min'.format(np.sqrt(score))"
      ],
      "execution_count": null,
      "outputs": [
        {
          "output_type": "execute_result",
          "data": {
            "application/vnd.google.colaboratory.intrinsic+json": {
              "type": "string"
            },
            "text/plain": [
              "'Ecart = 8.37 min'"
            ]
          },
          "metadata": {
            "tags": []
          },
          "execution_count": 51
        }
      ]
    },
    {
      "cell_type": "markdown",
      "metadata": {
        "id": "_q2SkIAKiZpK"
      },
      "source": [
        "The current MSE score is calculated on all the airports served by American Airlines"
      ]
    },
    {
      "cell_type": "markdown",
      "metadata": {
        "id": "3LOQwwsFfE4f"
      },
      "source": [
        "In the previous model, I grouped the flights per departure time.I make a model that accounts for both departure and arrival times:"
      ]
    },
    {
      "cell_type": "code",
      "metadata": {
        "id": "Sdd39KZulokJ"
      },
      "source": [
        "def create_df(df, carrier_airline):\n",
        "    df2 = df[df['AIRLINE'] == carrier_airline][['SCHEDULED_DEPARTURE','SCHEDULED_ARRIVAL','ORIGIN_AIRPORT','DESTINATION_AIRPORT','DEPARTURE_DELAY']]\n",
        "    df2.dropna(how = 'any', inplace = True)\n",
        "    df2['weekday'] = df2['SCHEDULED_DEPARTURE'].apply(lambda x:x.weekday())\n",
        "\n",
        "    # for greater than 1 hr delays\n",
        "    df2['DEPARTURE_DELAY'] = df2['DEPARTURE_DELAY'].apply(lambda x:x if x < 60 else np.nan)\n",
        "    df2.dropna(how = 'any', inplace = True)\n",
        "    # formating times\n",
        "    fct = lambda x:x.hour*3600+x.minute*60+x.second\n",
        "    df2['heure_depart'] = df2['SCHEDULED_DEPARTURE'].apply(lambda x:x.time())\n",
        "    df2['heure_depart'] = df2['heure_depart'].apply(fct)\n",
        "    df2['heure_arrivee'] = df2['SCHEDULED_ARRIVAL'].apply(fct)\n",
        "    df3 = df2.groupby(['heure_depart', 'heure_arrivee', 'ORIGIN_AIRPORT'], as_index = False).mean()\n",
        "    return df3"
      ],
      "execution_count": null,
      "outputs": []
    },
    {
      "cell_type": "code",
      "metadata": {
        "id": "0Xib3KRrmLJF",
        "colab": {
          "base_uri": "https://localhost:8080/",
          "height": 204
        },
        "outputId": "fa770495-0226-40b4-d769-1902cbf7d529"
      },
      "source": [
        "df3 = create_df(df, carrier_airline)    \n",
        "df3[:5]\n"
      ],
      "execution_count": null,
      "outputs": [
        {
          "output_type": "execute_result",
          "data": {
            "text/html": [
              "<div>\n",
              "<style scoped>\n",
              "    .dataframe tbody tr th:only-of-type {\n",
              "        vertical-align: middle;\n",
              "    }\n",
              "\n",
              "    .dataframe tbody tr th {\n",
              "        vertical-align: top;\n",
              "    }\n",
              "\n",
              "    .dataframe thead th {\n",
              "        text-align: right;\n",
              "    }\n",
              "</style>\n",
              "<table border=\"1\" class=\"dataframe\">\n",
              "  <thead>\n",
              "    <tr style=\"text-align: right;\">\n",
              "      <th></th>\n",
              "      <th>heure_depart</th>\n",
              "      <th>heure_arrivee</th>\n",
              "      <th>ORIGIN_AIRPORT</th>\n",
              "      <th>DEPARTURE_DELAY</th>\n",
              "      <th>weekday</th>\n",
              "    </tr>\n",
              "  </thead>\n",
              "  <tbody>\n",
              "    <tr>\n",
              "      <th>0</th>\n",
              "      <td>300</td>\n",
              "      <td>17640</td>\n",
              "      <td>LAX</td>\n",
              "      <td>1.75</td>\n",
              "      <td>2.50</td>\n",
              "    </tr>\n",
              "    <tr>\n",
              "      <th>1</th>\n",
              "      <td>300</td>\n",
              "      <td>17700</td>\n",
              "      <td>LAX</td>\n",
              "      <td>5.50</td>\n",
              "      <td>3.75</td>\n",
              "    </tr>\n",
              "    <tr>\n",
              "      <th>2</th>\n",
              "      <td>600</td>\n",
              "      <td>28200</td>\n",
              "      <td>LAX</td>\n",
              "      <td>-6.00</td>\n",
              "      <td>3.25</td>\n",
              "    </tr>\n",
              "    <tr>\n",
              "      <th>3</th>\n",
              "      <td>1200</td>\n",
              "      <td>29040</td>\n",
              "      <td>LAX</td>\n",
              "      <td>-4.25</td>\n",
              "      <td>2.50</td>\n",
              "    </tr>\n",
              "    <tr>\n",
              "      <th>4</th>\n",
              "      <td>1200</td>\n",
              "      <td>29100</td>\n",
              "      <td>LAX</td>\n",
              "      <td>0.80</td>\n",
              "      <td>3.60</td>\n",
              "    </tr>\n",
              "  </tbody>\n",
              "</table>\n",
              "</div>"
            ],
            "text/plain": [
              "   heure_depart  heure_arrivee ORIGIN_AIRPORT  DEPARTURE_DELAY  weekday\n",
              "0           300          17640            LAX             1.75     2.50\n",
              "1           300          17700            LAX             5.50     3.75\n",
              "2           600          28200            LAX            -6.00     3.25\n",
              "3          1200          29040            LAX            -4.25     2.50\n",
              "4          1200          29100            LAX             0.80     3.60"
            ]
          },
          "metadata": {
            "tags": []
          },
          "execution_count": 53
        }
      ]
    },
    {
      "cell_type": "markdown",
      "metadata": {
        "id": "Em60SJPAmg58"
      },
      "source": [
        "regroupings are made on departure and arrival times, encoding on airports is carried out as before."
      ]
    },
    {
      "cell_type": "code",
      "metadata": {
        "id": "5mVwZYQQmZA9"
      },
      "source": [
        "from sklearn import preprocessing\n",
        "# label_encoder object knows how to understand word labels. \n",
        "label_encoder = preprocessing.LabelEncoder()\n",
        "integer_encoded = label_encoder.fit_transform(df3['ORIGIN_AIRPORT'])\n",
        "#_________________________________________________________\n",
        "zipped = zip(integer_encoded, df3['ORIGIN_AIRPORT'])\n",
        "label_airports = list(set(list(zipped)))\n",
        "label_airports.sort(key = lambda x:x[0])\n",
        "#_________________________________________________\n",
        "onehot_encoder = OneHotEncoder(sparse=False)\n",
        "integer_encoded = integer_encoded.reshape(len(integer_encoded), 1)\n",
        "onehot_encoded = onehot_encoder.fit_transform(integer_encoded)\n",
        "#_________________________________________________\n",
        "b = np.array(df3[['heure_depart', 'heure_arrivee']])\n",
        "X = np.hstack((onehot_encoded, b))\n",
        "Y = np.array(df3['DEPARTURE_DELAY'])\n",
        "Y = Y.reshape(len(Y), 1)"
      ],
      "execution_count": null,
      "outputs": []
    },
    {
      "cell_type": "markdown",
      "metadata": {
        "id": "5odDbCgHm0-2"
      },
      "source": [
        "I therefore separate the data to train and then test the model and peform ridge regression"
      ]
    },
    {
      "cell_type": "code",
      "metadata": {
        "id": "RTX4ZIjJmz0s"
      },
      "source": [
        "X_train, X_test, Y_train, Y_test = train_test_split(X, Y, test_size=0.3)\n"
      ],
      "execution_count": null,
      "outputs": []
    },
    {
      "cell_type": "code",
      "metadata": {
        "id": "8d1vkBIam7R9",
        "colab": {
          "base_uri": "https://localhost:8080/",
          "height": 411
        },
        "outputId": "709d3e7b-aa1a-4d55-ae37-c9672e080395"
      },
      "source": [
        "score_min = 10000\n",
        "for pol_order in range(1, 3):\n",
        "    for alpha in range(0, 20, 2):\n",
        "        ridgereg = Ridge(alpha = alpha/10, normalize=True)\n",
        "        poly = PolynomialFeatures(degree = pol_order)\n",
        "        regr = linear_model.LinearRegression()\n",
        "        X_ = poly.fit_transform(X_train)\n",
        "        ridgereg.fit(X_, Y_train)\n",
        "        \n",
        "        X_ = poly.fit_transform(X_test)\n",
        "        result = ridgereg.predict(X_)\n",
        "        score = metrics.mean_squared_error(result, Y_test)\n",
        "        if score < score_min:\n",
        "            score_min = score\n",
        "            parameters = [alpha, pol_order]\n",
        "\n",
        "        print(\"n={} alpha={} , MSE = {:<0.5}\".format(pol_order, alpha/10, score))"
      ],
      "execution_count": null,
      "outputs": [
        {
          "output_type": "stream",
          "text": [
            "n=1 alpha=0.0 , MSE = 1.1825e+25\n",
            "n=1 alpha=0.2 , MSE = 107.39\n",
            "n=1 alpha=0.4 , MSE = 107.76\n",
            "n=1 alpha=0.6 , MSE = 108.53\n",
            "n=1 alpha=0.8 , MSE = 109.46\n",
            "n=1 alpha=1.0 , MSE = 110.45\n",
            "n=1 alpha=1.2 , MSE = 111.43\n",
            "n=1 alpha=1.4 , MSE = 112.39\n",
            "n=1 alpha=1.6 , MSE = 113.3\n",
            "n=1 alpha=1.8 , MSE = 114.16\n"
          ],
          "name": "stdout"
        },
        {
          "output_type": "stream",
          "text": [
            "/usr/local/lib/python3.6/dist-packages/sklearn/linear_model/_ridge.py:190: UserWarning: Singular matrix in solving dual problem. Using least-squares solution instead.\n",
            "  warnings.warn(\"Singular matrix in solving dual problem. Using \"\n"
          ],
          "name": "stderr"
        },
        {
          "output_type": "stream",
          "text": [
            "n=2 alpha=0.0 , MSE = 5310.6\n",
            "n=2 alpha=0.2 , MSE = 107.88\n",
            "n=2 alpha=0.4 , MSE = 107.84\n",
            "n=2 alpha=0.6 , MSE = 107.87\n",
            "n=2 alpha=0.8 , MSE = 107.95\n",
            "n=2 alpha=1.0 , MSE = 108.07\n",
            "n=2 alpha=1.2 , MSE = 108.24\n",
            "n=2 alpha=1.4 , MSE = 108.43\n",
            "n=2 alpha=1.6 , MSE = 108.65\n",
            "n=2 alpha=1.8 , MSE = 108.88\n"
          ],
          "name": "stdout"
        }
      ]
    },
    {
      "cell_type": "markdown",
      "metadata": {
        "id": "YYuGJ2okgPsA"
      },
      "source": [
        "finding the score on training model"
      ]
    },
    {
      "cell_type": "code",
      "metadata": {
        "id": "ieuYfkMzoGuz",
        "colab": {
          "base_uri": "https://localhost:8080/",
          "height": 34
        },
        "outputId": "433ae06b-52fb-4374-91a1-2ab3b3749f18"
      },
      "source": [
        "ridgereg = Ridge(alpha = parameters[0], normalize=True)\n",
        "poly = PolynomialFeatures(degree = parameters[1])\n",
        "X_ = poly.fit_transform(X)\n",
        "ridgereg.fit(X_, Y)\n",
        "result = ridgereg.predict(X_)\n",
        "score = metrics.mean_squared_error(result, Y)        \n",
        "print(score)"
      ],
      "execution_count": null,
      "outputs": [
        {
          "output_type": "stream",
          "text": [
            "103.63622195812516\n"
          ],
          "name": "stdout"
        }
      ]
    },
    {
      "cell_type": "markdown",
      "metadata": {
        "id": "yAoN6kU9NNLY"
      },
      "source": [
        "NOW TESTING OF MODEL"
      ]
    },
    {
      "cell_type": "code",
      "metadata": {
        "id": "lCMZMob4KpCD",
        "colab": {
          "base_uri": "https://localhost:8080/",
          "height": 204
        },
        "outputId": "50a53702-0036-47e9-d07e-a396303cb72c"
      },
      "source": [
        "df3 = create_df(df_test, carrier_airline)    \n",
        "df3[:5]"
      ],
      "execution_count": null,
      "outputs": [
        {
          "output_type": "execute_result",
          "data": {
            "text/html": [
              "<div>\n",
              "<style scoped>\n",
              "    .dataframe tbody tr th:only-of-type {\n",
              "        vertical-align: middle;\n",
              "    }\n",
              "\n",
              "    .dataframe tbody tr th {\n",
              "        vertical-align: top;\n",
              "    }\n",
              "\n",
              "    .dataframe thead th {\n",
              "        text-align: right;\n",
              "    }\n",
              "</style>\n",
              "<table border=\"1\" class=\"dataframe\">\n",
              "  <thead>\n",
              "    <tr style=\"text-align: right;\">\n",
              "      <th></th>\n",
              "      <th>heure_depart</th>\n",
              "      <th>heure_arrivee</th>\n",
              "      <th>ORIGIN_AIRPORT</th>\n",
              "      <th>DEPARTURE_DELAY</th>\n",
              "      <th>weekday</th>\n",
              "    </tr>\n",
              "  </thead>\n",
              "  <tbody>\n",
              "    <tr>\n",
              "      <th>0</th>\n",
              "      <td>60</td>\n",
              "      <td>31740</td>\n",
              "      <td>LAX</td>\n",
              "      <td>-3.000000</td>\n",
              "      <td>6.000000</td>\n",
              "    </tr>\n",
              "    <tr>\n",
              "      <th>1</th>\n",
              "      <td>300</td>\n",
              "      <td>5880</td>\n",
              "      <td>CLT</td>\n",
              "      <td>0.750000</td>\n",
              "      <td>3.250000</td>\n",
              "    </tr>\n",
              "    <tr>\n",
              "      <th>2</th>\n",
              "      <td>300</td>\n",
              "      <td>17580</td>\n",
              "      <td>LAX</td>\n",
              "      <td>2.705882</td>\n",
              "      <td>2.470588</td>\n",
              "    </tr>\n",
              "    <tr>\n",
              "      <th>3</th>\n",
              "      <td>300</td>\n",
              "      <td>17640</td>\n",
              "      <td>LAX</td>\n",
              "      <td>-1.968750</td>\n",
              "      <td>3.031250</td>\n",
              "    </tr>\n",
              "    <tr>\n",
              "      <th>4</th>\n",
              "      <td>300</td>\n",
              "      <td>21300</td>\n",
              "      <td>LAX</td>\n",
              "      <td>2.000000</td>\n",
              "      <td>5.000000</td>\n",
              "    </tr>\n",
              "  </tbody>\n",
              "</table>\n",
              "</div>"
            ],
            "text/plain": [
              "   heure_depart  heure_arrivee ORIGIN_AIRPORT  DEPARTURE_DELAY   weekday\n",
              "0            60          31740            LAX        -3.000000  6.000000\n",
              "1           300           5880            CLT         0.750000  3.250000\n",
              "2           300          17580            LAX         2.705882  2.470588\n",
              "3           300          17640            LAX        -1.968750  3.031250\n",
              "4           300          21300            LAX         2.000000  5.000000"
            ]
          },
          "metadata": {
            "tags": []
          },
          "execution_count": 58
        }
      ]
    },
    {
      "cell_type": "code",
      "metadata": {
        "id": "yv5-llFvM1vX"
      },
      "source": [
        "label_conversion = dict()\n",
        "for s in label_airports:\n",
        "    label_conversion[s[1]] = s[0]\n",
        "\n",
        "df3['ORIGIN_AIRPORT'].replace(label_conversion, inplace = True)\n",
        "\n",
        "for index, label in label_airports:\n",
        "    temp = df3['ORIGIN_AIRPORT'] == index\n",
        "    temp = temp.apply(lambda x:1.0 if x else 0.0)\n",
        "    if index == 0:\n",
        "        matrix = np.array(temp)\n",
        "    else:\n",
        "        matrix = np.vstack((matrix, temp))\n",
        "matrix = matrix.T\n",
        "\n",
        "b = np.array(df3[['heure_depart', 'heure_arrivee']])\n",
        "X_test = np.hstack((matrix, b))\n",
        "Y_test = np.array(df3['DEPARTURE_DELAY'])\n",
        "Y_test = Y_test.reshape(len(Y_test), 1)"
      ],
      "execution_count": null,
      "outputs": []
    },
    {
      "cell_type": "code",
      "metadata": {
        "id": "cCvDp72GNE_A",
        "colab": {
          "base_uri": "https://localhost:8080/",
          "height": 34
        },
        "outputId": "d72118df-8c38-419e-8d7b-d9bc935e0ad0"
      },
      "source": [
        "X_ = poly.fit_transform(X_test)\n",
        "result = ridgereg.predict(X_)\n",
        "score = metrics.mean_squared_error(result, Y_test)\n",
        "print('MSE = {}'.format(round(score, 2)))"
      ],
      "execution_count": null,
      "outputs": [
        {
          "output_type": "stream",
          "text": [
            "MSE = 73.42\n"
          ],
          "name": "stdout"
        }
      ]
    },
    {
      "cell_type": "markdown",
      "metadata": {
        "id": "n4lQmUM_NVrv"
      },
      "source": [
        "CORRESPONDS TO AN AVG DELAY OF 8.57 MINS."
      ]
    },
    {
      "cell_type": "code",
      "metadata": {
        "id": "7J8yHj-2NI5o",
        "colab": {
          "base_uri": "https://localhost:8080/",
          "height": 35
        },
        "outputId": "e2c4b842-7f2c-45bd-9566-d4ee553067e5"
      },
      "source": [
        "'Ecart = {:.2f} min'.format(np.sqrt(score))"
      ],
      "execution_count": null,
      "outputs": [
        {
          "output_type": "execute_result",
          "data": {
            "application/vnd.google.colaboratory.intrinsic+json": {
              "type": "string"
            },
            "text/plain": [
              "'Ecart = 8.57 min'"
            ]
          },
          "metadata": {
            "tags": []
          },
          "execution_count": 61
        }
      ]
    },
    {
      "cell_type": "code",
      "metadata": {
        "id": "ymm_Bnj_NoRm",
        "colab": {
          "base_uri": "https://localhost:8080/",
          "height": 636
        },
        "outputId": "d847bfd8-7b5e-4757-ed76-894ddb2a7ad5"
      },
      "source": [
        "import seaborn as sns\n",
        "import matplotlib.pyplot as plt\n",
        "sns.set()\n",
        "tips = pd.DataFrame()\n",
        "tips[\"prediction\"] = pd.Series([float(s) for s in predictions]) \n",
        "tips[\"original_data\"] = pd.Series([float(s) for s in Y_test]) \n",
        "sns.jointplot(x=\"original_data\", y=\"prediction\", data=tips, size = 6, ratio = 7,\n",
        "              joint_kws={'line_kws':{'color':'yellow'}}, kind='reg')\n",
        "plt.xlabel('Mean delays (min)', fontsize = 15)\n",
        "plt.ylabel('Predictions (min)', fontsize = 15)\n",
        "plt.plot(list(range(-10,25)), list(range(-10,25)), linestyle = ':', color = 'r')\n",
        "plt.show()"
      ],
      "execution_count": null,
      "outputs": [
        {
          "output_type": "stream",
          "text": [
            "/usr/local/lib/python3.6/dist-packages/seaborn/axisgrid.py:2264: UserWarning: The `size` parameter has been renamed to `height`; please update your code.\n",
            "  warnings.warn(msg, UserWarning)\n"
          ],
          "name": "stderr"
        },
        {
          "output_type": "display_data",
          "data": {
            "image/png": "[encoded data removed]",
            "text/plain": [
              "<Figure size 600x600 with 3 Axes>"
            ]
          },
          "metadata": {
            "tags": []
          }
        }
      ]
    }
  ]
}